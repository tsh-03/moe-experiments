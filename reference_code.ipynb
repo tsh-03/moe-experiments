{
  "cells": [
    {
      "cell_type": "markdown",
      "id": "llama4-intro",
      "metadata": {
        "id": "llama4-intro"
      },
      "source": [
        "## End-to-End Llama 4 Mixture-of-Experts (MoE) Text Model Implementation (Inline)\n",
        "\n",
        "### Introduction: Exploring Llama 4's MoE Architecture\n",
        "\n",
        "This notebook provides a detailed, step-by-step implementation of a simplified text generation model based on the concepts found in advanced architectures like Llama 4, with a specific focus on the **Mixture-of-Experts (MoE)** component. We aim to understand how MoE layers operate within a Transformer framework.\n",
        "\n",
        "**Key Concepts from Llama 4 Implemented Here:**\n",
        "\n",
        "1.  **Transformer Core:** The fundamental building blocks remain the Transformer architecture (Self-Attention, Feed-Forward layers).\n",
        "2.  **RMSNorm:** Root Mean Square Normalization is used instead of standard Layer Normalization.\n",
        "3.  **Rotary Positional Embeddings (RoPE):** To inject sequence order information directly into the attention mechanism.\n",
        "4.  **Mixture-of-Experts (MoE):** Replacing some standard Feed-Forward layers with MoE blocks. Each MoE block contains:\n",
        "    *   Multiple smaller \"expert\" networks (MLPs).\n",
        "    *   A \"router\" network that learns to direct each input token to a small subset (Top-K) of these experts.\n",
        "    *   A mechanism to combine the outputs from the selected experts.\n",
        "    *   Often includes a \"shared\" expert (a standard MLP) whose output is combined with the MoE output.\n",
        "5.  **Gated MLP:** The expert MLPs (and the shared expert) use a gated activation (like SiLU) similar to standard Llama models.\n",
        "\n",
        "**Simplifications for this Inline Implementation:**\n",
        "\n",
        "*   **Attention:** We will implement standard Multi-Head Attention (MHA) for simplicity, although Llama models often use optimizations like Grouped Query Attention (GQA).\n",
        "*   **Scale:** We will use significantly smaller dimensions (`d_model`, `n_layers`, number of experts) and a smaller dataset (character-level tokenization on a small text corpus) for feasibility.\n",
        "*   **Optimizations:** Features like L2 Norm on queries/keys, temperature tuning, and chunked attention are omitted to focus on the core MoE structure.\n",
        "\n",
        "**Style:**\n",
        "\n",
        "Following the requested style, this implementation uses:\n",
        "*   Small, sequential code blocks.\n",
        "*   Detailed theoretical explanations before each block.\n",
        "*   Inline execution (minimal use of functions/classes).\n",
        "*   `print` statements to show intermediate shapes and values.\n",
        "\n",
        "Let's begin by setting up the environment."
      ]
    },
    {
      "cell_type": "markdown",
      "id": "llama4-setup-theory",
      "metadata": {
        "id": "llama4-setup-theory"
      },
      "source": [
        "### Step 0: Setup - Libraries, Seed, and Device\n",
        "\n",
        "**Goal:** Prepare the environment by importing necessary libraries (PyTorch for tensor operations and neural networks, math for calculations) and setting up for reproducibility and hardware selection."
      ]
    },
    {
      "cell_type": "code",
      "execution_count": 1,
      "id": "llama4-setup-code",
      "metadata": {
        "colab": {
          "base_uri": "https://localhost:8080/"
        },
        "id": "llama4-setup-code",
        "outputId": "9ae3edcd-c69e-47a9-983a-65f2ecb4957d"
      },
      "outputs": [
        {
          "name": "stdout",
          "output_type": "stream",
          "text": [
            "PyTorch version: 2.7.1\n",
            "Using device: cpu\n",
            "Libraries imported and device configured.\n"
          ]
        }
      ],
      "source": [
        "# Import necessary libraries\n",
        "import torch\n",
        "import torch.nn as nn\n",
        "from torch.nn import functional as F\n",
        "import torch.optim as optim\n",
        "import math\n",
        "import os\n",
        "import collections # For BPE-like processing if extended\n",
        "import re          # For initial splitting\n",
        "\n",
        "# For reproducibility\n",
        "torch.manual_seed(1337)\n",
        "\n",
        "print(f\"PyTorch version: {torch.__version__}\")\n",
        "\n",
        "# --- Device Configuration ---\n",
        "# Theory: Set the device (GPU 'cuda' if available, else CPU) for tensor operations.\n",
        "# This ensures models and data are processed efficiently on available hardware.\n",
        "device = 'cuda' if torch.cuda.is_available() else 'cpu'\n",
        "\n",
        "print(f\"Using device: {device}\")\n",
        "print(\"Libraries imported and device configured.\")"
      ]
    },
    {
      "cell_type": "markdown",
      "id": "llama4-setup-output",
      "metadata": {
        "id": "llama4-setup-output"
      },
      "source": [
        "**Output Explanation:** The code imports PyTorch and other standard libraries. It sets a random seed for reproducibility and checks if a CUDA-enabled GPU is available, setting the `device` variable accordingly. The output confirms the PyTorch version and the device being used (e.g., 'cuda' or 'cpu')."
      ]
    },
    {
      "cell_type": "markdown",
      "id": "llama4-corpus-theory",
      "metadata": {
        "id": "llama4-corpus-theory"
      },
      "source": [
        "### Step 1: Corpus Definition and Character-Level Tokenization\n",
        "\n",
        "**Goal:** Define the text data we will use for training and create a simple character-level tokenizer."
      ]
    },
    {
      "cell_type": "markdown",
      "id": "llama4-corpus-define-theory",
      "metadata": {
        "id": "llama4-corpus-define-theory"
      },
      "source": [
        "#### Step 1.1: Define the Training Corpus\n",
        "\n",
        "**Theory:** We need some text data to train our language model. For simplicity and demonstration, we'll use a small excerpt from Lewis Carroll's \"Alice's Adventures in Wonderland\". A real model would be trained on vastly larger datasets."
      ]
    },
    {
      "cell_type": "code",
      "execution_count": 2,
      "id": "llama4-corpus-define-code",
      "metadata": {
        "colab": {
          "base_uri": "https://localhost:8080/"
        },
        "id": "llama4-corpus-define-code",
        "outputId": "e6585d68-1f63-4270-a81f-230e20ba0120"
      },
      "outputs": [
        {
          "name": "stdout",
          "output_type": "stream",
          "text": [
            "Training corpus defined (length: 593 characters).\n"
          ]
        }
      ],
      "source": [
        "# Define the raw text corpus for training\n",
        "corpus_raw = \"\"\"\n",
        "Alice was beginning to get very tired of sitting by her sister on the\n",
        "bank, and of having nothing to do: once or twice she had peeped into the\n",
        "book her sister was reading, but it had no pictures or conversations in\n",
        "it, 'and what is the use of a book,' thought Alice 'without pictures or\n",
        "conversation?'\n",
        "So she was considering in her own mind (as well as she could, for the\n",
        "hot day made her feel very sleepy and stupid), whether the pleasure\n",
        "of making a daisy-chain would be worth the trouble of getting up and\n",
        "picking the daisies, when suddenly a White Rabbit with pink eyes ran\n",
        "close by her.\n",
        "\"\"\"\n",
        "\n",
        "print(f\"Training corpus defined (length: {len(corpus_raw)} characters).\")"
      ]
    },
    {
      "cell_type": "markdown",
      "id": "llama4-corpus-define-output",
      "metadata": {
        "id": "llama4-corpus-define-output"
      },
      "source": [
        "**Output Explanation:** This defines the `corpus_raw` string variable containing our sample text and prints its total character length."
      ]
    },
    {
      "cell_type": "markdown",
      "id": "llama4-corpus-tokenize-theory",
      "metadata": {
        "id": "llama4-corpus-tokenize-theory"
      },
      "source": [
        "#### Step 1.2: Character-Level Tokenization\n",
        "\n",
        "**Theory:** We'll create the simplest form of tokenizer. We find all unique characters present in the corpus. Then, we create two dictionaries: `char_to_int` maps each unique character to a unique integer ID, and `int_to_char` provides the reverse mapping. The total number of unique characters determines our vocabulary size (`vocab_size`)."
      ]
    },
    {
      "cell_type": "code",
      "execution_count": 3,
      "id": "llama4-corpus-tokenize-code",
      "metadata": {
        "colab": {
          "base_uri": "https://localhost:8080/"
        },
        "id": "llama4-corpus-tokenize-code",
        "outputId": "87179485-3f45-49c3-c206-4fac4b6f2405"
      },
      "outputs": [
        {
          "name": "stdout",
          "output_type": "stream",
          "text": [
            "Created character vocabulary of size: 36\n",
            "Vocabulary: \n",
            " '(),-.:?ARSWabcdefghiklmnoprstuvwy\n",
            "Char-to-Int mapping sample: {'\\n': 0, ' ': 1, \"'\": 2, '(': 3, ')': 4}\n",
            "Int-to-Char mapping sample: {0: '\\n', 1: ' ', 2: \"'\", 3: '(', 4: ')'}\n"
          ]
        }
      ],
      "source": [
        "# Find all unique characters in the raw corpus\n",
        "chars = sorted(list(set(corpus_raw)))\n",
        "vocab_size = len(chars)\n",
        "\n",
        "# Create character-to-integer mapping (encoding)\n",
        "char_to_int = { ch:i for i,ch in enumerate(chars) }\n",
        "\n",
        "# Create integer-to-character mapping (decoding)\n",
        "int_to_char = { i:ch for i,ch in enumerate(chars) }\n",
        "\n",
        "print(f\"Created character vocabulary of size: {vocab_size}\")\n",
        "print(f\"Vocabulary: {''.join(chars)}\")\n",
        "\n",
        "# Optional: Print mappings\n",
        "print(f\"Char-to-Int mapping sample: { {k: char_to_int[k] for k in list(char_to_int)[:5]} }\")\n",
        "print(f\"Int-to-Char mapping sample: { {k: int_to_char[k] for k in list(int_to_char)[:5]} }\")"
      ]
    },
    {
      "cell_type": "markdown",
      "id": "llama4-corpus-tokenize-output",
      "metadata": {
        "id": "llama4-corpus-tokenize-output"
      },
      "source": [
        "**Output Explanation:** The code identifies all unique characters, calculates the `vocab_size`, and creates the forward (`char_to_int`) and reverse (`int_to_char`) lookup tables. The output shows the vocabulary size and the characters included."
      ]
    },
    {
      "cell_type": "markdown",
      "id": "llama4-corpus-encode-theory",
      "metadata": {
        "id": "llama4-corpus-encode-theory"
      },
      "source": [
        "#### Step 1.3: Encode the Corpus\n",
        "\n",
        "**Theory:** Convert the entire raw text corpus into a sequence of integer token IDs using the `char_to_int` mapping. This numerical sequence is the actual input the model will process. We store this as a PyTorch tensor."
      ]
    },
    {
      "cell_type": "code",
      "execution_count": 4,
      "id": "llama4-corpus-encode-code",
      "metadata": {
        "colab": {
          "base_uri": "https://localhost:8080/"
        },
        "id": "llama4-corpus-encode-code",
        "outputId": "e6b05a53-3c40-467d-b9a9-fb107d7115cd"
      },
      "outputs": [
        {
          "name": "stdout",
          "output_type": "stream",
          "text": [
            "Encoded corpus into a tensor of shape: torch.Size([593])\n",
            "First 50 encoded token IDs: [0, 10, 24, 22, 16, 18, 1, 34, 14, 30, 1, 15, 18, 20, 22, 26, 26, 22, 26, 20, 1, 31, 27, 1, 20, 18, 31, 1, 33, 18, 29, 35, 1, 31, 22, 29, 18, 17, 1, 27, 19, 1, 30, 22, 31, 31, 22, 26, 20, 1]\n"
          ]
        }
      ],
      "source": [
        "# Encode the entire corpus into a list of integer IDs\n",
        "encoded_corpus = [char_to_int[ch] for ch in corpus_raw]\n",
        "\n",
        "# Convert the list into a PyTorch tensor\n",
        "full_data_sequence = torch.tensor(encoded_corpus, dtype=torch.long, device=device)\n",
        "\n",
        "print(f\"Encoded corpus into a tensor of shape: {full_data_sequence.shape}\")\n",
        "\n",
        "# Optional: Display first few encoded IDs\n",
        "print(f\"First 50 encoded token IDs: {full_data_sequence[:50].tolist()}\")"
      ]
    },
    {
      "cell_type": "markdown",
      "id": "llama4-corpus-encode-output",
      "metadata": {
        "id": "llama4-corpus-encode-output"
      },
      "source": [
        "**Output Explanation:** The raw corpus string is converted into a PyTorch tensor where each character is replaced by its integer ID. The output shows the shape of this tensor (which should be `[corpus_length]`)."
      ]
    },
    {
      "cell_type": "markdown",
      "id": "llama4-hparams-theory",
      "metadata": {
        "id": "llama4-hparams-theory"
      },
      "source": [
        "### Step 2: Define Hyperparameters\n",
        "\n",
        "**Goal:** Set the configuration values that control the size, structure, and training of our Llama 4-like MoE model. We reference the configuration from the provided Llama 4 script but scale down the dimensions significantly for this demonstration."
      ]
    },
    {
      "cell_type": "code",
      "execution_count": 5,
      "id": "llama4-hparams-code",
      "metadata": {
        "colab": {
          "base_uri": "https://localhost:8080/"
        },
        "id": "llama4-hparams-code",
        "outputId": "5287c2ca-b84c-4da6-b8be-7ce3185ebc04"
      },
      "outputs": [
        {
          "name": "stdout",
          "output_type": "stream",
          "text": [
            "--- Hyperparameters Defined ---\n",
            "Vocabulary Size (vocab_size): 36\n",
            "Embedding Dimension (d_model): 128\n",
            "Number of Layers (n_layers): 4\n",
            "Number of Attention Heads (n_heads): 4\n",
            "Dimension per Head (d_k): 32\n",
            "Max Sequence Length (block_size): 64\n",
            "RMSNorm Epsilon (rms_norm_eps): 1e-05\n",
            "RoPE Theta (rope_theta): 10000.0\n",
            "--- MoE Specific ---\n",
            "Number of Local Experts (num_local_experts): 4\n",
            "Experts per Token (num_experts_per_tok): 2\n",
            "Expert Intermediate Size (expert_dim): 256\n",
            "Shared MLP Intermediate Size (shared_expert_dim): 256\n",
            "--- Training Specific ---\n",
            "Learning Rate: 0.0005\n",
            "Batch Size: 16\n",
            "Epochs: 3000\n"
          ]
        }
      ],
      "source": [
        "# --- Model Architecture Hyperparameters ---\n",
        "# vocab_size is already determined from the data\n",
        "d_model = 128         # Embedding dimension (reduced significantly)\n",
        "n_layers = 4          # Number of Transformer blocks (reduced)\n",
        "n_heads = 4           # Number of attention heads\n",
        "block_size = 64       # Maximum context length (sequence length)\n",
        "rms_norm_eps = 1e-5   # Epsilon for RMSNorm stability\n",
        "rope_theta = 10000.0  # Theta parameter for RoPE (reduced from Llama 4's 500k)\n",
        "\n",
        "# --- MoE Specific Hyperparameters ---\n",
        "num_local_experts = 4      # Number of experts per MoE layer (reduced from 16)\n",
        "num_experts_per_tok = 2   # Number of experts to route each token to (Top-K, reduced from 4?)\n",
        "intermediate_size_expert = d_model * 2  # Hidden dimension within each expert MLP (scaled down)\n",
        "intermediate_size_shared = d_model * 2  # Hidden dimension within the shared MLP (scaled down)\n",
        "\n",
        "# --- Attention Hyperparameters ---\n",
        "# d_k (dimension per head) will be derived from d_model and n_heads\n",
        "\n",
        "# --- Training Hyperparameters ---\n",
        "learning_rate = 5e-4  # Learning rate\n",
        "batch_size = 16       # Number of sequences processed in parallel\n",
        "epochs = 3000         # Number of training iterations (adjust as needed)\n",
        "eval_interval = 300  # How often to print loss\n",
        "\n",
        "# --- Derived Hyperparameters ---\n",
        "assert d_model % n_heads == 0, \"d_model must be divisible by n_heads\"\n",
        "d_k = d_model // n_heads # Dimension of keys/queries/values per head\n",
        "expert_dim = intermediate_size_expert # Alias for clarity\n",
        "shared_expert_dim = intermediate_size_shared # Alias for clarity\n",
        "\n",
        "print(\"--- Hyperparameters Defined ---\")\n",
        "print(f\"Vocabulary Size (vocab_size): {vocab_size}\")\n",
        "print(f\"Embedding Dimension (d_model): {d_model}\")\n",
        "print(f\"Number of Layers (n_layers): {n_layers}\")\n",
        "print(f\"Number of Attention Heads (n_heads): {n_heads}\")\n",
        "print(f\"Dimension per Head (d_k): {d_k}\")\n",
        "print(f\"Max Sequence Length (block_size): {block_size}\")\n",
        "print(f\"RMSNorm Epsilon (rms_norm_eps): {rms_norm_eps}\")\n",
        "print(f\"RoPE Theta (rope_theta): {rope_theta}\")\n",
        "print(\"--- MoE Specific ---\")\n",
        "print(f\"Number of Local Experts (num_local_experts): {num_local_experts}\")\n",
        "print(f\"Experts per Token (num_experts_per_tok): {num_experts_per_tok}\")\n",
        "print(f\"Expert Intermediate Size (expert_dim): {expert_dim}\")\n",
        "print(f\"Shared MLP Intermediate Size (shared_expert_dim): {shared_expert_dim}\")\n",
        "print(\"--- Training Specific ---\")\n",
        "print(f\"Learning Rate: {learning_rate}\")\n",
        "print(f\"Batch Size: {batch_size}\")\n",
        "print(f\"Epochs: {epochs}\")"
      ]
    },
    {
      "cell_type": "markdown",
      "id": "llama4-hparams-output",
      "metadata": {
        "id": "llama4-hparams-output"
      },
      "source": [
        "**Output Explanation:** This block defines and prints all the crucial hyperparameters governing the model's size (like `d_model`, `n_layers`, `n_heads`, `num_local_experts`), its behavior (like `rope_theta`, `rms_norm_eps`), and the training process (like `learning_rate`, `batch_size`, `epochs`). Derived values like `d_k` are also calculated and displayed."
      ]
    },
    {
      "cell_type": "markdown",
      "id": "llama4-dataprep-theory",
      "metadata": {
        "id": "llama4-dataprep-theory"
      },
      "source": [
        "### Step 3: Data Preparation for Training\n",
        "\n",
        "**Goal:** Structure the encoded data (`full_data_sequence`) into input (`x`) and target (`y`) pairs suitable for training the next-token prediction task."
      ]
    },
    {
      "cell_type": "markdown",
      "id": "llama4-dataprep-pairs-theory",
      "metadata": {
        "id": "llama4-dataprep-pairs-theory"
      },
      "source": [
        "#### Step 3.1: Create Input (x) and Target (y) Pairs\n",
        "\n",
        "**Theory:** The model learns to predict the next token based on the preceding ones. We create overlapping sequences of length `block_size` from our encoded corpus. For an input sequence `x` starting at index `i`, the corresponding target sequence `y` starts at index `i+1`. Each token in `y` is the target prediction for the corresponding token in `x`."
      ]
    },
    {
      "cell_type": "code",
      "execution_count": 6,
      "id": "llama4-dataprep-pairs-code",
      "metadata": {
        "colab": {
          "base_uri": "https://localhost:8080/"
        },
        "id": "llama4-dataprep-pairs-code",
        "outputId": "9d3ebe5f-1035-4538-f774-043e45fc54a5"
      },
      "outputs": [
        {
          "name": "stdout",
          "output_type": "stream",
          "text": [
            "Created 529 overlapping input/target sequence pairs.\n",
            "Shape of train_x: torch.Size([529, 64])\n",
            "Shape of train_y: torch.Size([529, 64])\n",
            "train_x is on device: cpu\n"
          ]
        }
      ],
      "source": [
        "# Create lists to hold all possible input (x) and target (y) sequences\n",
        "all_x = []\n",
        "all_y = []\n",
        "\n",
        "# Iterate through the encoded corpus tensor to extract overlapping sequences\n",
        "num_total_tokens = len(full_data_sequence)\n",
        "for i in range(num_total_tokens - block_size):\n",
        "    # Extract the input sequence chunk\n",
        "    x_chunk = full_data_sequence[i : i + block_size]\n",
        "    # Extract the target sequence chunk (shifted one position right)\n",
        "    y_chunk = full_data_sequence[i + 1 : i + block_size + 1]\n",
        "    all_x.append(x_chunk)\n",
        "    all_y.append(y_chunk)\n",
        "\n",
        "# Stack the lists of tensors into single large tensors\n",
        "train_x = torch.stack(all_x)\n",
        "train_y = torch.stack(all_y)\n",
        "\n",
        "num_sequences_available = train_x.shape[0]\n",
        "print(f\"Created {num_sequences_available} overlapping input/target sequence pairs.\")\n",
        "print(f\"Shape of train_x: {train_x.shape}\") # Should be (num_sequences, block_size)\n",
        "print(f\"Shape of train_y: {train_y.shape}\") # Should be (num_sequences, block_size)\n",
        "\n",
        "# Optional: Verify device\n",
        "print(f\"train_x is on device: {train_x.device}\") # May still be on CPU, move in batching"
      ]
    },
    {
      "cell_type": "markdown",
      "id": "llama4-dataprep-pairs-output",
      "metadata": {
        "id": "llama4-dataprep-pairs-output"
      },
      "source": [
        "**Output Explanation:** The code extracts all possible sequences of length `block_size` and their corresponding target sequences from the encoded text. It then stacks these into two tensors, `train_x` and `train_y`. The output shows the number of sequence pairs created and their shapes."
      ]
    },
    {
      "cell_type": "markdown",
      "id": "llama4-dataprep-batching-theory",
      "metadata": {
        "id": "llama4-dataprep-batching-theory"
      },
      "source": [
        "#### Step 3.2: Batching Strategy (Random Sampling)\n",
        "\n",
        "**Theory:** For training, we process data in batches. Instead of a formal DataLoader, we'll randomly sample `batch_size` indices from our available sequences (`0` to `num_sequences_available - 1`) in each training step. We then retrieve the corresponding sequences from `train_x` and `train_y` and move them to the correct `device`."
      ]
    },
    {
      "cell_type": "code",
      "execution_count": 7,
      "id": "llama4-dataprep-batching-code",
      "metadata": {
        "colab": {
          "base_uri": "https://localhost:8080/"
        },
        "id": "llama4-dataprep-batching-code",
        "outputId": "34847a98-2638-42ff-9afb-ff73f05bed0d"
      },
      "outputs": [
        {
          "name": "stdout",
          "output_type": "stream",
          "text": [
            "Data ready for training. Will sample batches of size 16 randomly.\n",
            "Batches will be moved to device during the training loop.\n"
          ]
        }
      ],
      "source": [
        "# Check if we have enough sequences for the desired batch size\n",
        "if num_sequences_available < batch_size:\n",
        "    print(f\"Warning: Number of sequences ({num_sequences_available}) is less than batch size ({batch_size}). Adjusting batch size.\")\n",
        "    batch_size = num_sequences_available\n",
        "\n",
        "print(f\"Data ready for training. Will sample batches of size {batch_size} randomly.\")\n",
        "print(\"Batches will be moved to device during the training loop.\")\n",
        "\n",
        "# Example of how a batch would be selected in the loop:\n",
        "indices = torch.randint(0, num_sequences_available, (batch_size,))\n",
        "xb = train_x[indices].to(device)\n",
        "yb = train_y[indices].to(device)"
      ]
    },
    {
      "cell_type": "markdown",
      "id": "llama4-dataprep-batching-output",
      "metadata": {
        "id": "llama4-dataprep-batching-output"
      },
      "source": [
        "**Output Explanation:** Confirms the batching strategy. It checks if the batch size is feasible given the number of sequences and explains that random sampling will be used within the training loop to create batches."
      ]
    },
    {
      "cell_type": "markdown",
      "id": "llama4-init-theory",
      "metadata": {
        "id": "llama4-init-theory"
      },
      "source": [
        "### Step 4: Model Component Initialization (Inline)\n",
        "\n",
        "**Goal:** Initialize the learnable parameters and fixed components for our Llama 4-like MoE model. We will store components for each layer in lists for use within the training loop."
      ]
    },
    {
      "cell_type": "markdown",
      "id": "llama4-init-embed-theory",
      "metadata": {
        "id": "llama4-init-embed-theory"
      },
      "source": [
        "#### Step 4.1: Token Embedding Layer\n",
        "\n",
        "**Theory:** This layer maps discrete token IDs (our character IDs) to dense vectors of dimension `d_model`. It's essentially a lookup table where each row corresponds to a token in the vocabulary. Input shape `(B, T)` -> Output shape `(B, T, C)`, where `B` is batch size, `T` is sequence length (`block_size`), and `C` is embedding dimension (`d_model`)."
      ]
    },
    {
      "cell_type": "code",
      "execution_count": 8,
      "id": "llama4-init-embed-code",
      "metadata": {
        "colab": {
          "base_uri": "https://localhost:8080/"
        },
        "id": "llama4-init-embed-code",
        "outputId": "b724c999-71cc-49c2-cadd-37b9b467853d"
      },
      "outputs": [
        {
          "name": "stdout",
          "output_type": "stream",
          "text": [
            "Initialized Token Embedding Layer:\n",
            "  Input Vocab Size: 36\n",
            "  Output Embedding Dim (d_model): 128\n",
            "  Weight shape: torch.Size([36, 128])\n",
            "  Device: cpu\n"
          ]
        }
      ],
      "source": [
        "# Initialize the token embedding table\n",
        "token_embedding_table = nn.Embedding(vocab_size, d_model).to(device)\n",
        "\n",
        "print(f\"Initialized Token Embedding Layer:\")\n",
        "print(f\"  Input Vocab Size: {vocab_size}\")\n",
        "print(f\"  Output Embedding Dim (d_model): {d_model}\")\n",
        "print(f\"  Weight shape: {token_embedding_table.weight.shape}\")\n",
        "print(f\"  Device: {token_embedding_table.weight.device}\")"
      ]
    },
    {
      "cell_type": "markdown",
      "id": "llama4-init-embed-output",
      "metadata": {
        "id": "llama4-init-embed-output"
      },
      "source": [
        "**Output Explanation:** Creates the `nn.Embedding` layer, specifying the vocabulary size and the desired embedding dimension (`d_model`). It's moved to the target `device`. The output confirms the layer's configuration and the shape of its learnable weight matrix (`vocab_size` x `d_model`)."
      ]
    },
    {
      "cell_type": "markdown",
      "id": "llama4-init-rope-theory",
      "metadata": {
        "id": "llama4-init-rope-theory"
      },
      "source": [
        "#### Step 4.2: Rotary Positional Embedding (RoPE) Precomputation\n",
        "\n",
        "**Theory:** RoPE injects positional information by rotating pairs of features in the query (Q) and key (K) vectors based on their absolute position. It uses complex numbers conceptually. We precompute the inverse frequencies (`inv_freq`) based on `rope_theta` and the dimension of each attention head (`d_k`). The actual rotation angles (`freqs_cis`) depend on the token positions and are calculated dynamically within the forward pass.\n",
        "Formulas:\n",
        "$$ \\theta_i = \\frac{1}{\\rm{ropetheta}^{2i / d_k}} $$\n",
        "where $i \\in [0, 1, ..., d_k/2 - 1]$. We precompute `inv_freq` which corresponds to this $\\theta_i$."
      ]
    },
    {
      "cell_type": "code",
      "execution_count": 9,
      "id": "llama4-init-rope-code",
      "metadata": {
        "colab": {
          "base_uri": "https://localhost:8080/"
        },
        "id": "llama4-init-rope-code",
        "outputId": "0b2d074f-30f3-4ca4-91d6-aac63c4382a4"
      },
      "outputs": [
        {
          "name": "stdout",
          "output_type": "stream",
          "text": [
            "Precomputed RoPE inverse frequencies (inv_freq):\n",
            "  Shape: torch.Size([16])\n",
            "  Values (first 5): [1.0, 0.5623413324356079, 0.3162277638912201, 0.17782793939113617, 0.10000000149011612]\n",
            "  Device: cpu\n"
          ]
        }
      ],
      "source": [
        "# Precompute the inverse frequencies for RoPE\n",
        "# Formula: 1.0 / (rope_theta ** (torch.arange(0, d_k, 2) / d_k))\n",
        "rope_freq_indices = torch.arange(0, d_k, 2, dtype=torch.float, device=device)\n",
        "inv_freq = 1.0 / (rope_theta ** (rope_freq_indices / d_k))\n",
        "\n",
        "print(\"Precomputed RoPE inverse frequencies (inv_freq):\")\n",
        "print(f\"  Shape: {inv_freq.shape}\") # Should be (d_k / 2,)\n",
        "print(f\"  Values (first 5): {inv_freq[:5].tolist()}\")\n",
        "print(f\"  Device: {inv_freq.device}\")\n",
        "# The 'freqs_cis' (complex numbers) will be computed in the forward pass using these inv_freq and position_ids"
      ]
    },
    {
      "cell_type": "markdown",
      "id": "llama4-init-rope-output",
      "metadata": {
        "id": "llama4-init-rope-output"
      },
      "source": [
        "**Output Explanation:** This block calculates the `inv_freq` tensor based on the `rope_theta` and `d_k` hyperparameters. This tensor contains the fundamental frequencies used for RoPE. Its shape is `(d_k / 2,)`. The actual rotation values (`freqs_cis`) will be computed dynamically during the forward pass based on token positions."
      ]
    },
    {
      "cell_type": "markdown",
      "id": "llama4-init-rmsnorm-theory",
      "metadata": {
        "id": "llama4-init-rmsnorm-theory"
      },
      "source": [
        "#### Step 4.3: RMSNorm Layers Initialization\n",
        "\n",
        "**Theory:** RMSNorm is a simplification of Layer Normalization. It normalizes the input by its root mean square and then scales it by a learnable weight parameter `gamma` (but typically lacks the learnable bias `beta` of LayerNorm).\n",
        "Formula: $$ \\text{RMSNorm}(x) = \\frac{x}{\\sqrt{\\text{mean}(x^2) + \\epsilon}} * \\gamma $$\n",
        "We need RMSNorm layers before the attention block, before the MoE/FFN block, and one final RMSNorm before the output layer."
      ]
    },
    {
      "cell_type": "code",
      "execution_count": 10,
      "id": "llama4-init-rmsnorm-code",
      "metadata": {
        "colab": {
          "base_uri": "https://localhost:8080/"
        },
        "id": "llama4-init-rmsnorm-code",
        "outputId": "db44ed10-cb18-4a00-8f55-64c9ab644422"
      },
      "outputs": [
        {
          "name": "stdout",
          "output_type": "stream",
          "text": [
            "Initializing RMSNorm weights for 4 layers...\n",
            "  Initialized RMSNorm weights for Layer 1 (Input: torch.Size([128]), PostAttn: torch.Size([128]))\n",
            "  Initialized RMSNorm weights for Layer 2 (Input: torch.Size([128]), PostAttn: torch.Size([128]))\n",
            "  Initialized RMSNorm weights for Layer 3 (Input: torch.Size([128]), PostAttn: torch.Size([128]))\n",
            "  Initialized RMSNorm weights for Layer 4 (Input: torch.Size([128]), PostAttn: torch.Size([128]))\n",
            "Initialized Final RMSNorm weight, shape: torch.Size([128])\n",
            "RMSNorm weights initialized (as nn.Parameter). The normalization logic will be inline.\n"
          ]
        }
      ],
      "source": [
        "# Lists to store RMSNorm layer weights for each Transformer block\n",
        "rmsnorm_weights_input = []      # RMSNorm before MHA\n",
        "rmsnorm_weights_post_attn = []  # RMSNorm before MoE/FFN\n",
        "\n",
        "print(f\"Initializing RMSNorm weights for {n_layers} layers...\")\n",
        "for i in range(n_layers):\n",
        "    # RMSNorm weight for input to attention\n",
        "    # Initialize weight as torch.ones, similar to nn.LayerNorm's default gamma\n",
        "    weight_in = nn.Parameter(torch.ones(d_model, device=device))\n",
        "    rmsnorm_weights_input.append(weight_in)\n",
        "\n",
        "    # RMSNorm weight for input to MoE/FFN (post-attention)\n",
        "    weight_post = nn.Parameter(torch.ones(d_model, device=device))\n",
        "    rmsnorm_weights_post_attn.append(weight_post)\n",
        "    print(f\"  Initialized RMSNorm weights for Layer {i+1} (Input: {weight_in.shape}, PostAttn: {weight_post.shape})\")\n",
        "\n",
        "# Final RMSNorm before the output layer\n",
        "final_rmsnorm_weight = nn.Parameter(torch.ones(d_model, device=device))\n",
        "\n",
        "print(f\"Initialized Final RMSNorm weight, shape: {final_rmsnorm_weight.shape}\")\n",
        "print(\"RMSNorm weights initialized (as nn.Parameter). The normalization logic will be inline.\")"
      ]
    },
    {
      "cell_type": "markdown",
      "id": "llama4-init-rmsnorm-output",
      "metadata": {
        "id": "llama4-init-rmsnorm-output"
      },
      "source": [
        "**Output Explanation:** Creates the learnable weight parameters (`gamma`) for each RMSNorm instance needed in the model (two per layer, plus one final). These are stored as `nn.Parameter` objects containing tensors initialized to ones, with shape `(d_model,)`. The actual normalization calculation will be performed inline during the forward pass using these weights."
      ]
    },
    {
      "cell_type": "markdown",
      "id": "llama4-init-attn-theory",
      "metadata": {
        "id": "llama4-init-attn-theory"
      },
      "source": [
        "#### Step 4.4: Attention Layers Initialization (MHA)\n",
        "\n",
        "**Theory:** Initialize the linear projection layers needed for Multi-Head Attention within each Transformer block. We need:\n",
        "1.  A combined projection layer to generate Query (Q), Key (K), and Value (V) vectors for all heads simultaneously. Input `(B, T, C)` -> Output `(B, T, 3*C)`.\n",
        "2.  An output projection layer to combine the results from all heads back into the model dimension. Input `(B, T, C)` -> Output `(B, T, C)`."
      ]
    },
    {
      "cell_type": "code",
      "execution_count": 11,
      "id": "llama4-init-attn-code",
      "metadata": {
        "colab": {
          "base_uri": "https://localhost:8080/"
        },
        "id": "llama4-init-attn-code",
        "outputId": "045d60c5-ce1e-43a8-b43e-dde198841868"
      },
      "outputs": [
        {
          "name": "stdout",
          "output_type": "stream",
          "text": [
            "Initializing Attention (MHA) linear layers for 4 layers...\n",
            "  Initialized MHA Linears for Layer 1 (QKV: torch.Size([384, 128]), Out: torch.Size([128, 128]))\n",
            "  Initialized MHA Linears for Layer 2 (QKV: torch.Size([384, 128]), Out: torch.Size([128, 128]))\n",
            "  Initialized MHA Linears for Layer 3 (QKV: torch.Size([384, 128]), Out: torch.Size([128, 128]))\n",
            "  Initialized MHA Linears for Layer 4 (QKV: torch.Size([384, 128]), Out: torch.Size([128, 128]))\n",
            "Attention (MHA) linear layers initialized.\n"
          ]
        }
      ],
      "source": [
        "# Lists to store Attention layers for each Transformer block\n",
        "mha_qkv_linears = []    # Combined Linear layer for Q, K, V projections\n",
        "mha_output_linears = [] # Output Linear layer for MHA\n",
        "\n",
        "print(f\"Initializing Attention (MHA) linear layers for {n_layers} layers...\")\n",
        "for i in range(n_layers):\n",
        "    # Combined QKV projection layer\n",
        "    # Bias is often False in large transformer QKV projections\n",
        "    qkv_linear = nn.Linear(d_model, 3 * d_model, bias=False).to(device)\n",
        "    mha_qkv_linears.append(qkv_linear)\n",
        "\n",
        "    # Output projection layer\n",
        "    # Bias is often False here too, but can be True\n",
        "    output_linear = nn.Linear(d_model, d_model, bias=False).to(device)\n",
        "    mha_output_linears.append(output_linear)\n",
        "    print(f\"  Initialized MHA Linears for Layer {i+1} (QKV: {qkv_linear.weight.shape}, Out: {output_linear.weight.shape})\")\n",
        "\n",
        "print(\"Attention (MHA) linear layers initialized.\")"
      ]
    },
    {
      "cell_type": "markdown",
      "id": "llama4-init-attn-output",
      "metadata": {
        "id": "llama4-init-attn-output"
      },
      "source": [
        "**Output Explanation:** Creates the `nn.Linear` layers responsible for projecting the input into Q, K, V spaces and projecting the attention output back to `d_model` for each of the `n_layers`. The output confirms the creation and shows the shapes of the weight matrices for these linear layers."
      ]
    },
    {
      "cell_type": "markdown",
      "id": "llama4-init-moe-theory",
      "metadata": {
        "id": "llama4-init-moe-theory"
      },
      "source": [
        "#### Step 4.5: Mixture-of-Experts (MoE) Layers Initialization\n",
        "\n",
        "**Theory:** Initialize the components for the MoE blocks, which replace the standard FFN in each Transformer layer. For each layer, we need:\n",
        "1.  **Router:** A linear layer mapping the input hidden state (`d_model`) to logits for each expert (`num_local_experts`).\n",
        "2.  **Experts:** A set of `num_local_experts` independent MLP networks. Each expert MLP typically uses a gated activation (SiLU). We initialize the weights for these expert MLPs.\n",
        "    *   Gate/Up Projection: Linear `d_model` -> `2 * expert_dim`.\n",
        "    *   Down Projection: Linear `expert_dim` -> `d_model`.\n",
        "3.  **Shared Expert:** A single standard MLP (identical structure to one expert, but using `shared_expert_dim`) that processes all tokens.\n",
        "\n",
        "*Note:* We initialize the weights directly as `nn.Parameter` for the experts to closely follow the reference script's structure, rather than using `nn.Linear`. The shared expert uses standard `nn.Linear`."
      ]
    },
    {
      "cell_type": "code",
      "execution_count": 12,
      "id": "llama4-init-moe-code",
      "metadata": {
        "colab": {
          "base_uri": "https://localhost:8080/"
        },
        "id": "llama4-init-moe-code",
        "outputId": "44235f4b-1ef9-410b-d87a-6e6c9255851e"
      },
      "outputs": [
        {
          "name": "stdout",
          "output_type": "stream",
          "text": [
            "Initializing MoE and Shared MLP components for 4 layers...\n",
            "  Num Experts per layer: 4\n",
            "  Expert Dim: 256\n",
            "  Shared MLP Dim: 256\n",
            "  Initialized MoE components for Layer 1:\n",
            "    Router weights: torch.Size([4, 128])\n",
            "    Expert Gate/Up weights: torch.Size([4, 128, 512])\n",
            "    Expert Down weights: torch.Size([4, 256, 128])\n",
            "    Shared Gate weights: torch.Size([256, 128])\n",
            "    Shared Up weights: torch.Size([256, 128])\n",
            "    Shared Down weights: torch.Size([128, 256])\n",
            "  Initialized MoE components for Layer 2:\n",
            "    Router weights: torch.Size([4, 128])\n",
            "    Expert Gate/Up weights: torch.Size([4, 128, 512])\n",
            "    Expert Down weights: torch.Size([4, 256, 128])\n",
            "    Shared Gate weights: torch.Size([256, 128])\n",
            "    Shared Up weights: torch.Size([256, 128])\n",
            "    Shared Down weights: torch.Size([128, 256])\n",
            "  Initialized MoE components for Layer 3:\n",
            "    Router weights: torch.Size([4, 128])\n",
            "    Expert Gate/Up weights: torch.Size([4, 128, 512])\n",
            "    Expert Down weights: torch.Size([4, 256, 128])\n",
            "    Shared Gate weights: torch.Size([256, 128])\n",
            "    Shared Up weights: torch.Size([256, 128])\n",
            "    Shared Down weights: torch.Size([128, 256])\n",
            "  Initialized MoE components for Layer 4:\n",
            "    Router weights: torch.Size([4, 128])\n",
            "    Expert Gate/Up weights: torch.Size([4, 128, 512])\n",
            "    Expert Down weights: torch.Size([4, 256, 128])\n",
            "    Shared Gate weights: torch.Size([256, 128])\n",
            "    Shared Up weights: torch.Size([256, 128])\n",
            "    Shared Down weights: torch.Size([128, 256])\n",
            "MoE and Shared MLP components initialized.\n"
          ]
        }
      ],
      "source": [
        "# Lists to store MoE components for each layer\n",
        "moe_routers = []             # Router linear layers\n",
        "moe_expert_gate_up_proj = [] # Expert Gate/Up projection weights\n",
        "moe_expert_down_proj = []    # Expert Down projection weights\n",
        "shared_expert_gate_proj = [] # Shared Expert Gate projection\n",
        "shared_expert_up_proj = []   # Shared Expert Up projection\n",
        "shared_expert_down_proj = [] # Shared Expert Down projection\n",
        "\n",
        "print(f\"Initializing MoE and Shared MLP components for {n_layers} layers...\")\n",
        "print(f\"  Num Experts per layer: {num_local_experts}\")\n",
        "print(f\"  Expert Dim: {expert_dim}\")\n",
        "print(f\"  Shared MLP Dim: {shared_expert_dim}\")\n",
        "\n",
        "for i in range(n_layers):\n",
        "    # 1. Router\n",
        "    router_linear = nn.Linear(d_model, num_local_experts, bias=False).to(device)\n",
        "    moe_routers.append(router_linear)\n",
        "\n",
        "    # 2. Experts (Weights as Parameters)\n",
        "    # Gate/Up Projection Weight: (num_experts, d_model, 2 * expert_dim)\n",
        "    gate_up_w = nn.Parameter(torch.empty(num_local_experts, d_model, 2 * expert_dim, device=device))\n",
        "    nn.init.normal_(gate_up_w, mean=0.0, std=0.02) # Example initialization\n",
        "    moe_expert_gate_up_proj.append(gate_up_w)\n",
        "\n",
        "    # Down Projection Weight: (num_experts, expert_dim, d_model)\n",
        "    down_w = nn.Parameter(torch.empty(num_local_experts, expert_dim, d_model, device=device))\n",
        "    nn.init.normal_(down_w, mean=0.0, std=0.02) # Example initialization\n",
        "    moe_expert_down_proj.append(down_w)\n",
        "\n",
        "    # 3. Shared Expert (Standard MLP layers)\n",
        "    shared_gate = nn.Linear(d_model, shared_expert_dim, bias=False).to(device)\n",
        "    shared_up = nn.Linear(d_model, shared_expert_dim, bias=False).to(device)\n",
        "    shared_down = nn.Linear(shared_expert_dim, d_model, bias=False).to(device)\n",
        "    shared_expert_gate_proj.append(shared_gate)\n",
        "    shared_expert_up_proj.append(shared_up)\n",
        "    shared_expert_down_proj.append(shared_down)\n",
        "\n",
        "    print(f\"  Initialized MoE components for Layer {i+1}:\")\n",
        "    print(f\"    Router weights: {router_linear.weight.shape}\")\n",
        "    print(f\"    Expert Gate/Up weights: {gate_up_w.shape}\")\n",
        "    print(f\"    Expert Down weights: {down_w.shape}\")\n",
        "    print(f\"    Shared Gate weights: {shared_gate.weight.shape}\")\n",
        "    print(f\"    Shared Up weights: {shared_up.weight.shape}\")\n",
        "    print(f\"    Shared Down weights: {shared_down.weight.shape}\")\n",
        "\n",
        "print(\"MoE and Shared MLP components initialized.\")\n",
        "# Activation function (used inline)\n",
        "activation_fn = nn.SiLU()"
      ]
    },
    {
      "cell_type": "markdown",
      "id": "llama4-init-moe-output",
      "metadata": {
        "id": "llama4-init-moe-output"
      },
      "source": [
        "**Output Explanation:** This block initializes the MoE components for each layer. For each layer, it creates:\n",
        "*   A linear `router` layer.\n",
        "*   The weight `Parameter` tensors for the `gate_up_proj` and `down_proj` across all `num_local_experts`.\n",
        "*   The `nn.Linear` layers for the `shared_expert` MLP.\n",
        "The output confirms the initialization and shows the shapes of the weight tensors for each component in each layer."
      ]
    },
    {
      "cell_type": "markdown",
      "id": "llama4-init-output-theory",
      "metadata": {
        "id": "llama4-init-output-theory"
      },
      "source": [
        "#### Step 4.6: Final Output Layer Initialization\n",
        "\n",
        "**Theory:** This final linear layer maps the output of the last Transformer block (after the final RMSNorm) from the model dimension `d_model` back to the vocabulary size `vocab_size`. The output represents the raw scores (logits) for each possible next token."
      ]
    },
    {
      "cell_type": "code",
      "execution_count": 13,
      "id": "llama4-init-output-code",
      "metadata": {
        "colab": {
          "base_uri": "https://localhost:8080/"
        },
        "id": "llama4-init-output-code",
        "outputId": "bbdc82de-ba8c-4a39-b137-e3c3203123ca"
      },
      "outputs": [
        {
          "name": "stdout",
          "output_type": "stream",
          "text": [
            "Initialized Final Output Linear Layer:\n",
            "  Input Dim (d_model): 128\n",
            "  Output Dim (vocab_size): 36\n",
            "  Weight shape: torch.Size([36, 128])\n",
            "  Device: cpu\n"
          ]
        }
      ],
      "source": [
        "# Final Linear Layer (language modeling head)\n",
        "output_linear_layer = nn.Linear(d_model, vocab_size, bias=False).to(device)\n",
        "\n",
        "print(f\"Initialized Final Output Linear Layer:\")\n",
        "print(f\"  Input Dim (d_model): {d_model}\")\n",
        "print(f\"  Output Dim (vocab_size): {vocab_size}\")\n",
        "print(f\"  Weight shape: {output_linear_layer.weight.shape}\")\n",
        "print(f\"  Device: {output_linear_layer.weight.device}\")"
      ]
    },
    {
      "cell_type": "markdown",
      "id": "llama4-init-output-output",
      "metadata": {
        "id": "llama4-init-output-output"
      },
      "source": [
        "**Output Explanation:** Initializes the final `nn.Linear` layer responsible for producing the logits over the vocabulary. The output confirms its input/output dimensions and weight shape."
      ]
    },
    {
      "cell_type": "markdown",
      "id": "llama4-init-mask-theory",
      "metadata": {
        "id": "llama4-init-mask-theory"
      },
      "source": [
        "#### Step 4.7: Causal Mask Precomputation\n",
        "\n",
        "**Theory:** For decoder-only language models, we need a causal attention mask to prevent attention heads from looking at future tokens during training and generation. This is typically a lower triangular matrix where positions allowed to attend have a value (e.g., 1 or 0) and positions not allowed have another value (e.g., 0 or -infinity). We precompute this mask for the maximum `block_size`."
      ]
    },
    {
      "cell_type": "code",
      "execution_count": 14,
      "id": "llama4-init-mask-code",
      "metadata": {
        "colab": {
          "base_uri": "https://localhost:8080/"
        },
        "id": "llama4-init-mask-code",
        "outputId": "4a56a78c-da76-4f86-8a88-28af4ee0eb7a"
      },
      "outputs": [
        {
          "name": "stdout",
          "output_type": "stream",
          "text": [
            "Precomputed Causal Attention Mask:\n",
            "  Shape: torch.Size([1, 1, 64, 64])\n",
            "  Requires grad: False\n"
          ]
        }
      ],
      "source": [
        "# Create the lower triangular mask for causal self-attention\n",
        "# Values are 1 where attention is allowed, 0 where it's masked.\n",
        "# Shape: (1, 1, block_size, block_size) for broadcasting with (B, n_heads, T, T)\n",
        "causal_mask = torch.tril(torch.ones(block_size, block_size, device=device))\n",
        "causal_mask = causal_mask.view(1, 1, block_size, block_size)\n",
        "\n",
        "print(\"Precomputed Causal Attention Mask:\")\n",
        "print(f\"  Shape: {causal_mask.shape}\")\n",
        "print(f\"  Requires grad: {causal_mask.requires_grad}\")\n",
        "# Optional: Visualize the mask for a smaller block size\n",
        "# if block_size <= 8:\n",
        "#    print(causal_mask[0, 0].cpu().numpy())"
      ]
    },
    {
      "cell_type": "markdown",
      "id": "llama4-init-mask-output",
      "metadata": {
        "id": "llama4-init-mask-output"
      },
      "source": [
        "**Output Explanation:** Creates a lower triangular matrix representing the causal mask. The shape `(1, 1, block_size, block_size)` is suitable for broadcasting during the attention calculation. The output confirms the shape."
      ]
    },
    {
      "cell_type": "markdown",
      "id": "llama4-trainsetup-theory",
      "metadata": {
        "id": "llama4-trainsetup-theory"
      },
      "source": [
        "### Step 5: Training Setup\n",
        "\n",
        "**Goal:** Prepare the optimizer and loss function needed for the training loop."
      ]
    },
    {
      "cell_type": "markdown",
      "id": "llama4-trainsetup-optim-theory",
      "metadata": {
        "id": "llama4-trainsetup-optim-theory"
      },
      "source": [
        "#### Step 5.1: Define Optimizer\n",
        "\n",
        "**Theory:** The optimizer is responsible for updating the model's learnable parameters based on the gradients calculated during backpropagation. We use AdamW, a common choice for Transformer models. We must gather *all* `nn.Parameter` objects from our initialized components into a list for the optimizer to manage."
      ]
    },
    {
      "cell_type": "code",
      "execution_count": 15,
      "id": "llama4-trainsetup-optim-code",
      "metadata": {
        "colab": {
          "base_uri": "https://localhost:8080/"
        },
        "id": "llama4-trainsetup-optim-code",
        "outputId": "2a7f070e-26c3-496a-8ab7-f0068ae9d2f4"
      },
      "outputs": [
        {
          "name": "stdout",
          "output_type": "stream",
          "text": [
            "Optimizer Setup:\n",
            "  Optimizer: AdamW\n",
            "  Learning Rate: 0.0005\n",
            "  Managing 43 parameter groups/tensors.\n",
            "  Total Trainable Parameters: 2,240,640\n"
          ]
        }
      ],
      "source": [
        "# Gather all model parameters requiring gradients\n",
        "all_model_parameters = list(token_embedding_table.parameters())\n",
        "# Add RMSNorm weights\n",
        "all_model_parameters.extend(rmsnorm_weights_input)\n",
        "all_model_parameters.extend(rmsnorm_weights_post_attn)\n",
        "all_model_parameters.append(final_rmsnorm_weight)\n",
        "# Add Attention linear layer weights\n",
        "for i in range(n_layers):\n",
        "    all_model_parameters.extend(list(mha_qkv_linears[i].parameters()))\n",
        "    all_model_parameters.extend(list(mha_output_linears[i].parameters()))\n",
        "# Add MoE Router linear layer weights\n",
        "for i in range(n_layers):\n",
        "    all_model_parameters.extend(list(moe_routers[i].parameters()))\n",
        "# Add MoE Expert weights (already nn.Parameters)\n",
        "all_model_parameters.extend(moe_expert_gate_up_proj)\n",
        "all_model_parameters.extend(moe_expert_down_proj)\n",
        "# Add Shared Expert linear layer weights\n",
        "for i in range(n_layers):\n",
        "    all_model_parameters.extend(list(shared_expert_gate_proj[i].parameters()))\n",
        "    all_model_parameters.extend(list(shared_expert_up_proj[i].parameters()))\n",
        "    all_model_parameters.extend(list(shared_expert_down_proj[i].parameters()))\n",
        "# Add Final Output linear layer weights\n",
        "all_model_parameters.extend(list(output_linear_layer.parameters()))\n",
        "\n",
        "# Count total number of parameter tensors (groups)\n",
        "num_param_groups = len(all_model_parameters)\n",
        "# Count total number of individual parameters\n",
        "total_params = sum(p.numel() for p in all_model_parameters if p.requires_grad)\n",
        "\n",
        "# Define the AdamW optimizer\n",
        "optimizer = optim.AdamW(all_model_parameters, lr=learning_rate)\n",
        "\n",
        "print(\"Optimizer Setup:\")\n",
        "print(f\"  Optimizer: {type(optimizer).__name__}\")\n",
        "print(f\"  Learning Rate: {learning_rate}\")\n",
        "print(f\"  Managing {num_param_groups} parameter groups/tensors.\")\n",
        "print(f\"  Total Trainable Parameters: {total_params:,}\")"
      ]
    },
    {
      "cell_type": "markdown",
      "id": "llama4-trainsetup-optim-output",
      "metadata": {
        "id": "llama4-trainsetup-optim-output"
      },
      "source": [
        "**Output Explanation:** The code collects all learnable parameters (weights from Embeddings, RMSNorms, Linears, and the Expert parameters) into a single list. It then initializes the AdamW optimizer with this list and the specified learning rate. The output confirms the optimizer type, learning rate, the number of parameter tensors being managed, and the total count of individual trainable parameters in the model."
      ]
    },
    {
      "cell_type": "markdown",
      "id": "llama4-trainsetup-loss-theory",
      "metadata": {
        "id": "llama4-trainsetup-loss-theory"
      },
      "source": [
        "#### Step 5.2: Define Loss Function\n",
        "\n",
        "**Theory:** For next-token prediction (a multi-class classification problem), the standard loss function is Cross-Entropy Loss. It compares the model's output logits with the true next-token IDs."
      ]
    },
    {
      "cell_type": "code",
      "execution_count": 16,
      "id": "llama4-trainsetup-loss-code",
      "metadata": {
        "colab": {
          "base_uri": "https://localhost:8080/"
        },
        "id": "llama4-trainsetup-loss-code",
        "outputId": "fd1760a4-bde1-44cd-a5c4-e7acdf74513c"
      },
      "outputs": [
        {
          "name": "stdout",
          "output_type": "stream",
          "text": [
            "Loss function defined: CrossEntropyLoss\n"
          ]
        }
      ],
      "source": [
        "# Define the loss function\n",
        "criterion = nn.CrossEntropyLoss()\n",
        "\n",
        "print(f\"Loss function defined: {type(criterion).__name__}\")"
      ]
    },
    {
      "cell_type": "markdown",
      "id": "llama4-trainsetup-loss-output",
      "metadata": {
        "id": "llama4-trainsetup-loss-output"
      },
      "source": [
        "**Output Explanation:** Initializes the standard `nn.CrossEntropyLoss` function, which will be used to calculate the error between the model's predictions and the target sequences during training."
      ]
    },
    {
      "cell_type": "markdown",
      "id": "llama4-trainloop-theory",
      "metadata": {
        "id": "llama4-trainloop-theory"
      },
      "source": [
        "### Step 6: Training the Model (Inline Loop)\n",
        "\n",
        "**Goal:** Iteratively train the model by feeding it batches of data, calculating the loss, and updating the parameters using the optimizer. This is where all the previously initialized components come together in the forward pass."
      ]
    },
    {
      "cell_type": "code",
      "execution_count": 17,
      "id": "llama4-trainloop-code",
      "metadata": {
        "colab": {
          "base_uri": "https://localhost:8080/",
          "height": 653
        },
        "id": "llama4-trainloop-code",
        "outputId": "496473c1-199e-4a88-d42d-9079c182fb8b"
      },
      "outputs": [
        {
          "name": "stdout",
          "output_type": "stream",
          "text": [
            "\n",
            "--- Starting Training Loop for 3000 epochs ---\n",
            "  Epoch 1/3000, Loss: 3.6833\n"
          ]
        },
        {
          "ename": "KeyboardInterrupt",
          "evalue": "",
          "output_type": "error",
          "traceback": [
            "\u001b[31m---------------------------------------------------------------------------\u001b[39m",
            "\u001b[31mKeyboardInterrupt\u001b[39m                         Traceback (most recent call last)",
            "\u001b[36mCell\u001b[39m\u001b[36m \u001b[39m\u001b[32mIn[17]\u001b[39m\u001b[32m, line 225\u001b[39m\n\u001b[32m    222\u001b[39m optimizer.zero_grad()\n\u001b[32m    224\u001b[39m \u001b[38;5;66;03m# --- 5. Backward Pass ---\u001b[39;00m\n\u001b[32m--> \u001b[39m\u001b[32m225\u001b[39m \u001b[43mloss\u001b[49m\u001b[43m.\u001b[49m\u001b[43mbackward\u001b[49m\u001b[43m(\u001b[49m\u001b[43m)\u001b[49m\n\u001b[32m    227\u001b[39m \u001b[38;5;66;03m# --- 6. Update Parameters ---\u001b[39;00m\n\u001b[32m    228\u001b[39m optimizer.step()\n",
            "\u001b[36mFile \u001b[39m\u001b[32m~/miniforge3/envs/moe-experiments/lib/python3.12/site-packages/torch/_tensor.py:648\u001b[39m, in \u001b[36mTensor.backward\u001b[39m\u001b[34m(self, gradient, retain_graph, create_graph, inputs)\u001b[39m\n\u001b[32m    638\u001b[39m \u001b[38;5;28;01mif\u001b[39;00m has_torch_function_unary(\u001b[38;5;28mself\u001b[39m):\n\u001b[32m    639\u001b[39m     \u001b[38;5;28;01mreturn\u001b[39;00m handle_torch_function(\n\u001b[32m    640\u001b[39m         Tensor.backward,\n\u001b[32m    641\u001b[39m         (\u001b[38;5;28mself\u001b[39m,),\n\u001b[32m   (...)\u001b[39m\u001b[32m    646\u001b[39m         inputs=inputs,\n\u001b[32m    647\u001b[39m     )\n\u001b[32m--> \u001b[39m\u001b[32m648\u001b[39m \u001b[43mtorch\u001b[49m\u001b[43m.\u001b[49m\u001b[43mautograd\u001b[49m\u001b[43m.\u001b[49m\u001b[43mbackward\u001b[49m\u001b[43m(\u001b[49m\n\u001b[32m    649\u001b[39m \u001b[43m    \u001b[49m\u001b[38;5;28;43mself\u001b[39;49m\u001b[43m,\u001b[49m\u001b[43m \u001b[49m\u001b[43mgradient\u001b[49m\u001b[43m,\u001b[49m\u001b[43m \u001b[49m\u001b[43mretain_graph\u001b[49m\u001b[43m,\u001b[49m\u001b[43m \u001b[49m\u001b[43mcreate_graph\u001b[49m\u001b[43m,\u001b[49m\u001b[43m \u001b[49m\u001b[43minputs\u001b[49m\u001b[43m=\u001b[49m\u001b[43minputs\u001b[49m\n\u001b[32m    650\u001b[39m \u001b[43m\u001b[49m\u001b[43m)\u001b[49m\n",
            "\u001b[36mFile \u001b[39m\u001b[32m~/miniforge3/envs/moe-experiments/lib/python3.12/site-packages/torch/autograd/__init__.py:353\u001b[39m, in \u001b[36mbackward\u001b[39m\u001b[34m(tensors, grad_tensors, retain_graph, create_graph, grad_variables, inputs)\u001b[39m\n\u001b[32m    348\u001b[39m     retain_graph = create_graph\n\u001b[32m    350\u001b[39m \u001b[38;5;66;03m# The reason we repeat the same comment below is that\u001b[39;00m\n\u001b[32m    351\u001b[39m \u001b[38;5;66;03m# some Python versions print out the first line of a multi-line function\u001b[39;00m\n\u001b[32m    352\u001b[39m \u001b[38;5;66;03m# calls in the traceback and some print out the last line\u001b[39;00m\n\u001b[32m--> \u001b[39m\u001b[32m353\u001b[39m \u001b[43m_engine_run_backward\u001b[49m\u001b[43m(\u001b[49m\n\u001b[32m    354\u001b[39m \u001b[43m    \u001b[49m\u001b[43mtensors\u001b[49m\u001b[43m,\u001b[49m\n\u001b[32m    355\u001b[39m \u001b[43m    \u001b[49m\u001b[43mgrad_tensors_\u001b[49m\u001b[43m,\u001b[49m\n\u001b[32m    356\u001b[39m \u001b[43m    \u001b[49m\u001b[43mretain_graph\u001b[49m\u001b[43m,\u001b[49m\n\u001b[32m    357\u001b[39m \u001b[43m    \u001b[49m\u001b[43mcreate_graph\u001b[49m\u001b[43m,\u001b[49m\n\u001b[32m    358\u001b[39m \u001b[43m    \u001b[49m\u001b[43minputs\u001b[49m\u001b[43m,\u001b[49m\n\u001b[32m    359\u001b[39m \u001b[43m    \u001b[49m\u001b[43mallow_unreachable\u001b[49m\u001b[43m=\u001b[49m\u001b[38;5;28;43;01mTrue\u001b[39;49;00m\u001b[43m,\u001b[49m\n\u001b[32m    360\u001b[39m \u001b[43m    \u001b[49m\u001b[43maccumulate_grad\u001b[49m\u001b[43m=\u001b[49m\u001b[38;5;28;43;01mTrue\u001b[39;49;00m\u001b[43m,\u001b[49m\n\u001b[32m    361\u001b[39m \u001b[43m\u001b[49m\u001b[43m)\u001b[49m\n",
            "\u001b[36mFile \u001b[39m\u001b[32m~/miniforge3/envs/moe-experiments/lib/python3.12/site-packages/torch/autograd/graph.py:824\u001b[39m, in \u001b[36m_engine_run_backward\u001b[39m\u001b[34m(t_outputs, *args, **kwargs)\u001b[39m\n\u001b[32m    822\u001b[39m     unregister_hooks = _register_logging_hooks_on_whole_graph(t_outputs)\n\u001b[32m    823\u001b[39m \u001b[38;5;28;01mtry\u001b[39;00m:\n\u001b[32m--> \u001b[39m\u001b[32m824\u001b[39m     \u001b[38;5;28;01mreturn\u001b[39;00m \u001b[43mVariable\u001b[49m\u001b[43m.\u001b[49m\u001b[43m_execution_engine\u001b[49m\u001b[43m.\u001b[49m\u001b[43mrun_backward\u001b[49m\u001b[43m(\u001b[49m\u001b[43m  \u001b[49m\u001b[38;5;66;43;03m# Calls into the C++ engine to run the backward pass\u001b[39;49;00m\n\u001b[32m    825\u001b[39m \u001b[43m        \u001b[49m\u001b[43mt_outputs\u001b[49m\u001b[43m,\u001b[49m\u001b[43m \u001b[49m\u001b[43m*\u001b[49m\u001b[43margs\u001b[49m\u001b[43m,\u001b[49m\u001b[43m \u001b[49m\u001b[43m*\u001b[49m\u001b[43m*\u001b[49m\u001b[43mkwargs\u001b[49m\n\u001b[32m    826\u001b[39m \u001b[43m    \u001b[49m\u001b[43m)\u001b[49m  \u001b[38;5;66;03m# Calls into the C++ engine to run the backward pass\u001b[39;00m\n\u001b[32m    827\u001b[39m \u001b[38;5;28;01mfinally\u001b[39;00m:\n\u001b[32m    828\u001b[39m     \u001b[38;5;28;01mif\u001b[39;00m attach_logging_hooks:\n",
            "\u001b[31mKeyboardInterrupt\u001b[39m: "
          ]
        }
      ],
      "source": [
        "print(f\"\\n--- Starting Training Loop for {epochs} epochs ---\")\n",
        "\n",
        "# List to track losses\n",
        "losses = []\n",
        "\n",
        "# Training loop\n",
        "for epoch in range(epochs):\n",
        "\n",
        "    # --- 1. Batch Selection ---\n",
        "    # Select random indices for the batch\n",
        "    indices = torch.randint(0, num_sequences_available, (batch_size,))\n",
        "    # Get input and target sequences and move to device\n",
        "    xb = train_x[indices].to(device) # Input batch shape: (B, T)\n",
        "    yb = train_y[indices].to(device) # Target batch shape: (B, T)\n",
        "\n",
        "    # --- 2. Forward Pass (Inline execution) ---\n",
        "    B, T = xb.shape # B = batch_size, T = block_size\n",
        "    C = d_model     # Embedding dimension\n",
        "\n",
        "    # --- Initial Embedding ---\n",
        "    token_embed = token_embedding_table(xb) # (B, T, C)\n",
        "\n",
        "    # --- Prepare RoPE Frequencies for this batch/sequence length ---\n",
        "    # Create position IDs (0 to T-1)\n",
        "    position_ids = torch.arange(T, device=device).unsqueeze(0) # Shape: (1, T)\n",
        "    # Expand inv_freq for batch and sequence length\n",
        "    # inv_freq shape: (d_k/2) -> (1, d_k/2, 1) -> (B, d_k/2, 1)\n",
        "    inv_freq_expanded = inv_freq.unsqueeze(0).unsqueeze(-1).expand(B, -1, 1)\n",
        "    # position_ids shape: (1, T) -> (B, 1, T)\n",
        "    pos_ids_expanded = position_ids.expand(B, -1).unsqueeze(1).float()\n",
        "    # Calculate frequencies: (B, d_k/2, 1) @ (B, 1, T) -> (B, d_k/2, T)\n",
        "    with torch.autocast(device_type=device, enabled=False): # RoPE often done in float32\n",
        "        freqs = (inv_freq_expanded.float() @ pos_ids_expanded).transpose(1, 2) # (B, T, d_k/2)\n",
        "        # Convert to complex numbers (cis format: cos + i*sin)\n",
        "        freqs_cis = torch.polar(torch.ones_like(freqs), freqs) # (B, T, d_k/2)\n",
        "\n",
        "    # We don't add positional encoding directly; RoPE is applied in attention\n",
        "    x = token_embed\n",
        "\n",
        "    # --- Transformer Blocks Loop ---\n",
        "    for i in range(n_layers):\n",
        "        # Residual connection starts here\n",
        "        residual_attn = x\n",
        "\n",
        "        # --- Input RMSNorm ---\n",
        "        # Formula: x * rsqrt(mean(x^2) + eps) * gamma\n",
        "        x_float = x.float()\n",
        "        norm_const = torch.rsqrt(x_float.pow(2).mean(-1, keepdim=True) + rms_norm_eps)\n",
        "        x_norm = (x_float * norm_const).type_as(x)\n",
        "        x_norm = x_norm * rmsnorm_weights_input[i]\n",
        "\n",
        "        # --- Multi-Head Attention (MHA) ---\n",
        "        # QKV projection\n",
        "        qkv = mha_qkv_linears[i](x_norm) # (B, T, 3*C)\n",
        "        # Split heads\n",
        "        qkv = qkv.view(B, T, n_heads, 3 * d_k) # Reshape before permute\n",
        "        # Split Q, K, V\n",
        "        q, k, v = qkv.chunk(3, dim=-1) # (B, T, n_heads, d_k)\n",
        "\n",
        "        # --- Apply RoPE ---\n",
        "        # Inline apply_rotary_emb logic\n",
        "        # Reshape Q, K for complex multiplication: (B, T, n_heads, d_k/2, 2)\n",
        "        q_rope = q.float().reshape(B, T, n_heads, -1, 2)\n",
        "        k_rope = k.float().reshape(B, T, n_heads, -1, 2)\n",
        "        # View as complex: (B, T, n_heads, d_k/2)\n",
        "        q_complex = torch.view_as_complex(q_rope)\n",
        "        k_complex = torch.view_as_complex(k_rope)\n",
        "        # Reshape freqs_cis for broadcasting: (B, T, 1, d_k/2)\n",
        "        freqs_cis_bthd = freqs_cis.unsqueeze(2)\n",
        "        # Apply rotation\n",
        "        q_rotated = q_complex * freqs_cis_bthd\n",
        "        k_rotated = k_complex * freqs_cis_bthd\n",
        "        # Convert back to real: (B, T, n_heads, d_k/2, 2)\n",
        "        q_out_real = torch.view_as_real(q_rotated)\n",
        "        k_out_real = torch.view_as_real(k_rotated)\n",
        "        # Flatten last two dimensions: (B, T, n_heads, d_k)\n",
        "        q = q_out_real.flatten(3).type_as(q)\n",
        "        k = k_out_real.flatten(3).type_as(k)\n",
        "\n",
        "        # Permute for attention calculation: (B, n_heads, T, d_k)\n",
        "        q = q.permute(0, 2, 1, 3)\n",
        "        k = k.permute(0, 2, 1, 3)\n",
        "        v = v.permute(0, 2, 1, 3) # Permute v as well\n",
        "\n",
        "        # Scaled dot-product attention\n",
        "        # (B, n_heads, T, d_k) @ (B, n_heads, d_k, T) -> (B, n_heads, T, T)\n",
        "        attn_scores = (q @ k.transpose(-2, -1)) * (d_k ** -0.5)\n",
        "        # Apply Causal Mask\n",
        "        attn_scores = attn_scores.masked_fill(causal_mask[:,:,:T,:T] == 0, float('-inf'))\n",
        "        attention_weights = F.softmax(attn_scores, dim=-1) # (B, n_heads, T, T)\n",
        "        # Handle potential NaNs if a row in softmax is all -inf (e.g., first token)\n",
        "        attention_weights = torch.nan_to_num(attention_weights)\n",
        "\n",
        "        # Attention output\n",
        "        # (B, n_heads, T, T) @ (B, n_heads, T, d_k) -> (B, n_heads, T, d_k)\n",
        "        attn_output = attention_weights @ v\n",
        "        # Concatenate heads: -> (B, T, n_heads, d_k) -> (B, T, C)\n",
        "        attn_output = attn_output.permute(0, 2, 1, 3).contiguous().view(B, T, C)\n",
        "\n",
        "        # Output projection\n",
        "        attn_output = mha_output_linears[i](attn_output)\n",
        "\n",
        "        # --- Add Residual Connection (Attention) ---\n",
        "        x = residual_attn + attn_output\n",
        "\n",
        "        # --- MoE Block ---\n",
        "        # Residual connection starts here\n",
        "        residual_moe = x\n",
        "\n",
        "        # --- Post-Attention RMSNorm ---\n",
        "        x_float = x.float()\n",
        "        norm_const = torch.rsqrt(x_float.pow(2).mean(-1, keepdim=True) + rms_norm_eps)\n",
        "        x_norm = (x_float * norm_const).type_as(x)\n",
        "        x_norm = x_norm * rmsnorm_weights_post_attn[i]\n",
        "\n",
        "        # --- Router Logits ---\n",
        "        # Input x_norm: (B, T, C) -> Router Output: (B, T, num_experts)\n",
        "        router_logits = moe_routers[i](x_norm)\n",
        "\n",
        "        # --- Expert Selection (Top-K) ---\n",
        "        # Get top-k experts and their routing weights (logits)\n",
        "        routing_weights, selected_experts = torch.topk(router_logits, num_experts_per_tok, dim=-1)\n",
        "        # Apply sigmoid to make weights sum to <= k (treating experts independently)\n",
        "        # Or use Softmax if weights should sum to 1 across the k experts\n",
        "        # Reference script uses sigmoid: B, T, k\n",
        "        routing_weights = torch.sigmoid(routing_weights)\n",
        "\n",
        "        # --- Prepare for Expert Calculation ---\n",
        "        # Flatten B and T dimensions to treat each token independently\n",
        "        x_flat = x_norm.view(-1, C) # (B*T, C)\n",
        "        selected_experts_flat = selected_experts.view(-1) # (B*T*k)\n",
        "        routing_weights_flat = routing_weights.view(-1)   # (B*T*k)\n",
        "\n",
        "        # Create token indices corresponding to the selected experts\n",
        "        # token_idx goes from 0 to B*T-1\n",
        "        # expert_idx is the index of the expert selected (0 to num_experts-1)\n",
        "        token_idx = torch.arange(B * T, device=device).repeat_interleave(num_experts_per_tok) # (B*T*k)\n",
        "        expert_idx = selected_experts_flat # (B*T*k)\n",
        "\n",
        "        # Gather the hidden states for each token * expert combination\n",
        "        # Input x_flat: (B*T, C)\n",
        "        # Index token_idx: (B*T*k)\n",
        "        # Output expert_inputs: (B*T*k, C)\n",
        "        expert_inputs = x_flat[token_idx]\n",
        "\n",
        "        # --- Run Experts ---\n",
        "        # Get expert weights for the selected experts\n",
        "        # moe_expert_gate_up_proj[i]: (num_experts, C, 2*expert_dim)\n",
        "        # Index expert_idx: (B*T*k)\n",
        "        # Output gate_up_w_selected: (B*T*k, C, 2*expert_dim)\n",
        "        gate_up_w_selected = moe_expert_gate_up_proj[i][expert_idx]\n",
        "        # moe_expert_down_proj[i]: (num_experts, expert_dim, C)\n",
        "        # Output down_w_selected: (B*T*k, expert_dim, C)\n",
        "        down_w_selected = moe_expert_down_proj[i][expert_idx]\n",
        "\n",
        "        # Perform batched matrix multiplication (BMM)\n",
        "        # expert_inputs: (B*T*k, C) -> unsqueeze for BMM: (B*T*k, 1, C)\n",
        "        # gate_up_w_selected: (B*T*k, C, 2*expert_dim)\n",
        "        # Output gate_up_states: (B*T*k, 1, 2*expert_dim)\n",
        "        gate_up_states = torch.bmm(expert_inputs.unsqueeze(1), gate_up_w_selected)\n",
        "\n",
        "        # Split gate and up states\n",
        "        gate, up = gate_up_states.chunk(2, dim=-1) # Each: (B*T*k, 1, expert_dim)\n",
        "\n",
        "        # Apply activation function (SiLU) and gating\n",
        "        activated_states = activation_fn(gate) * up # (B*T*k, 1, expert_dim)\n",
        "\n",
        "        # Down projection\n",
        "        # activated_states: (B*T*k, 1, expert_dim)\n",
        "        # down_w_selected: (B*T*k, expert_dim, C)\n",
        "        # Output expert_outputs_flat: (B*T*k, 1, C) -> squeeze -> (B*T*k, C)\n",
        "        expert_outputs_flat = torch.bmm(activated_states, down_w_selected).squeeze(1) # (B*T*k, C)\n",
        "\n",
        "        # Weight the outputs by the routing weights\n",
        "        # expert_outputs_flat: (B*T*k, C)\n",
        "        # routing_weights_flat: (B*T*k) -> unsqueeze -> (B*T*k, 1)\n",
        "        expert_outputs_weighted = expert_outputs_flat * routing_weights_flat.unsqueeze(-1) # (B*T*k, C)\n",
        "\n",
        "        # --- Combine Expert Outputs ---\n",
        "        # Sum the outputs for each token (across the k selected experts)\n",
        "        # Need to scatter-add the weighted outputs back to the original token positions\n",
        "        # Initialize output tensor: (B*T, C)\n",
        "        combined_expert_outputs = torch.zeros_like(x_flat) # (B*T, C)\n",
        "        # Scatter Add:\n",
        "        # combined_expert_outputs: tensor to add into\n",
        "        # dim=0: dimension along which to index\n",
        "        # index=token_idx.unsqueeze(-1).expand(-1, C): indices to scatter to (needs C dimension)\n",
        "        # src=expert_outputs_weighted: values to add\n",
        "        combined_expert_outputs.scatter_add_(0, token_idx.unsqueeze(-1).expand(-1, C), expert_outputs_weighted)\n",
        "\n",
        "        # --- Run Shared Expert ---\n",
        "        shared_gate_val = shared_expert_gate_proj[i](x_norm) # (B, T, shared_expert_dim)\n",
        "        shared_up_val = shared_expert_up_proj[i](x_norm)     # (B, T, shared_expert_dim)\n",
        "        shared_activated = activation_fn(shared_gate_val) * shared_up_val # (B, T, shared_expert_dim)\n",
        "        shared_output = shared_expert_down_proj[i](shared_activated)      # (B, T, C)\n",
        "\n",
        "        # --- Combine MoE and Shared Expert ---\n",
        "        # Reshape combined_expert_outputs back to (B, T, C)\n",
        "        moe_output = combined_expert_outputs.view(B, T, C)\n",
        "        # Add shared expert output\n",
        "        final_moe_output = moe_output + shared_output\n",
        "\n",
        "        # --- Add Residual Connection (MoE/FFN) ---\n",
        "        x = residual_moe + final_moe_output\n",
        "\n",
        "    # --- Final RMSNorm ---\n",
        "    x_float = x.float()\n",
        "    norm_const = torch.rsqrt(x_float.pow(2).mean(-1, keepdim=True) + rms_norm_eps)\n",
        "    x_norm = (x_float * norm_const).type_as(x)\n",
        "    x_norm = x_norm * final_rmsnorm_weight\n",
        "\n",
        "    # --- Final Output Layer ---\n",
        "    logits = output_linear_layer(x_norm) # (B, T, vocab_size)\n",
        "\n",
        "    # --- 3. Calculate Loss ---\n",
        "    B_loss, T_loss, V_loss = logits.shape\n",
        "    logits_for_loss = logits.view(B_loss * T_loss, V_loss)\n",
        "    targets_for_loss = yb.view(B_loss * T_loss)\n",
        "    loss = criterion(logits_for_loss, targets_for_loss)\n",
        "\n",
        "    # --- 4. Zero Gradients ---\n",
        "    optimizer.zero_grad()\n",
        "\n",
        "    # --- 5. Backward Pass ---\n",
        "    loss.backward()\n",
        "\n",
        "    # --- 6. Update Parameters ---\n",
        "    optimizer.step()\n",
        "\n",
        "    # --- Logging ---\n",
        "    current_loss = loss.item()\n",
        "    losses.append(current_loss)\n",
        "    if epoch % eval_interval == 0 or epoch == epochs - 1:\n",
        "        print(f\"  Epoch {epoch+1}/{epochs}, Loss: {current_loss:.4f}\")\n",
        "\n",
        "print(\"--- Training Loop Completed ---\")\n",
        "\n",
        "# Optional: Plot losses\n",
        "try:\n",
        "    import matplotlib.pyplot as plt\n",
        "    plt.figure(figsize=(10, 4))\n",
        "    plt.plot(losses)\n",
        "    plt.title(\"Training Loss Over Epochs\")\n",
        "    plt.xlabel(\"Epoch\")\n",
        "    plt.ylabel(\"Loss\")\n",
        "    plt.grid(True)\n",
        "    plt.show()\n",
        "except ImportError:\n",
        "    print(\"Matplotlib not found, skipping loss plot.\")"
      ]
    },
    {
      "cell_type": "markdown",
      "id": "llama4-trainloop-output",
      "metadata": {
        "id": "llama4-trainloop-output"
      },
      "source": [
        "**Output Explanation:** This crucial block executes the training. For each epoch, it:\n",
        "1.  Selects a batch of input (`xb`) and target (`yb`) sequences.\n",
        "2.  Performs the full forward pass:\n",
        "    *   Embeds tokens.\n",
        "    *   Calculates RoPE frequencies (`freqs_cis`).\n",
        "    *   Iterates through `n_layers`:\n",
        "        *   Applies input RMSNorm.\n",
        "        *   Calculates Multi-Head Attention, including applying RoPE to queries and keys.\n",
        "        *   Adds the first residual connection.\n",
        "        *   Applies post-attention RMSNorm.\n",
        "        *   Executes the MoE logic: routing, expert selection (`topk`), weighted gathering, expert processing (gated MLP via BMM), shared expert processing, combination (`scatter_add_`), and addition.\n",
        "        *   Adds the second residual connection.\n",
        "    *   Applies final RMSNorm.\n",
        "    *   Projects to vocabulary logits.\n",
        "3.  Calculates the Cross-Entropy loss between the predicted logits and the actual target tokens.\n",
        "4.  Performs backpropagation to compute gradients.\n",
        "5.  Updates the model parameters using the optimizer.\n",
        "The output shows the loss value printed periodically, which should generally decrease over time, indicating that the model is learning."
      ]
    },
    {
      "cell_type": "markdown",
      "id": "llama4-gen-theory",
      "metadata": {
        "id": "llama4-gen-theory"
      },
      "source": [
        "### Step 7: Text Generation (Inline)\n",
        "\n",
        "**Goal:** Use the trained model parameters to generate new text autoregressively, starting from a seed context."
      ]
    },
    {
      "cell_type": "markdown",
      "id": "llama4-gen-setup-theory",
      "metadata": {
        "id": "llama4-gen-setup-theory"
      },
      "source": [
        "#### Step 7.1: Generation Setup\n",
        "\n",
        "**Theory:** Define the starting prompt (seed characters), convert it to token IDs, and specify how many new tokens to generate. Crucially, set all model components to evaluation mode (`.eval()`) - although less critical here as we didn't use dropout/batchnorm, it's vital practice. We also use `torch.no_grad()` to disable gradient calculation for efficiency during inference."
      ]
    },
    {
      "cell_type": "code",
      "execution_count": 18,
      "id": "llama4-gen-setup-code",
      "metadata": {
        "colab": {
          "base_uri": "https://localhost:8080/"
        },
        "id": "llama4-gen-setup-code",
        "outputId": "304e048a-57fd-4697-b993-9f885fa35fc2"
      },
      "outputs": [
        {
          "name": "stdout",
          "output_type": "stream",
          "text": [
            "\n",
            "--- Step 7: Text Generation ---\n",
            "Seed text: 'Alice '\n",
            "Generating 200 new tokens...\n",
            "Initial context shape: torch.Size([1, 6])\n",
            "Model components set to evaluation mode (where applicable).\n"
          ]
        }
      ],
      "source": [
        "print(\"\\n--- Step 7: Text Generation ---\")\n",
        "\n",
        "# --- Generation Parameters ---\n",
        "seed_chars = \"Alice \" # Starting text prompt\n",
        "num_tokens_to_generate = 200 # How many new characters to generate\n",
        "print(f\"Seed text: '{seed_chars}'\")\n",
        "print(f\"Generating {num_tokens_to_generate} new tokens...\")\n",
        "\n",
        "# --- Prepare Initial Context ---\n",
        "# Convert seed characters to token IDs\n",
        "seed_ids = [char_to_int[ch] for ch in seed_chars if ch in char_to_int]\n",
        "# Create the initial context tensor (add batch dimension)\n",
        "generated_sequence = torch.tensor([seed_ids], dtype=torch.long, device=device)\n",
        "print(f\"Initial context shape: {generated_sequence.shape}\")\n",
        "\n",
        "# --- Set Model Components to Evaluation Mode ---\n",
        "# (Important if Dropout or BatchNorm were used, good practice anyway)\n",
        "token_embedding_table.eval()\n",
        "for i in range(n_layers):\n",
        "    # RMSNorm doesn't have eval mode, just use weights\n",
        "    mha_qkv_linears[i].eval()\n",
        "    mha_output_linears[i].eval()\n",
        "    moe_routers[i].eval()\n",
        "    # Expert weights (Parameters) don't have eval()\n",
        "    shared_expert_gate_proj[i].eval()\n",
        "    shared_expert_up_proj[i].eval()\n",
        "    shared_expert_down_proj[i].eval()\n",
        "output_linear_layer.eval()\n",
        "# Final RMSNorm weight doesn't have eval()\n",
        "print(\"Model components set to evaluation mode (where applicable).\")"
      ]
    },
    {
      "cell_type": "markdown",
      "id": "llama4-gen-setup-output",
      "metadata": {
        "id": "llama4-gen-setup-output"
      },
      "source": [
        "**Output Explanation:** Sets the seed text and the desired generation length. It converts the seed text into token IDs and prepares the initial context tensor. It also explicitly sets the relevant `nn.Module` components (like Linear layers) to evaluation mode."
      ]
    },
    {
      "cell_type": "markdown",
      "id": "llama4-gen-loop-theory",
      "metadata": {
        "id": "llama4-gen-loop-theory"
      },
      "source": [
        "#### Step 7.2: The Generation Loop\n",
        "\n",
        "**Theory:** Generate text token by token:\n",
        "1.  Take the current generated sequence (or the last `block_size` tokens of it) as context.\n",
        "2.  Perform a forward pass through the model (using the same inline logic as training) to get logits for the *next* token.\n",
        "3.  Convert the logits for the very last position into probabilities using Softmax.\n",
        "4.  Sample the next token ID from this probability distribution (using `torch.multinomial`).\n",
        "5.  Append the sampled token ID to the sequence.\n",
        "6.  Repeat until the desired number of tokens is generated."
      ]
    },
    {
      "cell_type": "code",
      "execution_count": 19,
      "id": "llama4-gen-loop-code",
      "metadata": {
        "colab": {
          "base_uri": "https://localhost:8080/"
        },
        "id": "llama4-gen-loop-code",
        "outputId": "7fc801d9-9a1f-4775-c57f-bac393441477"
      },
      "outputs": [
        {
          "name": "stdout",
          "output_type": "stream",
          "text": [
            "Starting generation loop...\n",
            "...Generation loop finished.\n"
          ]
        }
      ],
      "source": [
        "print(\"Starting generation loop...\")\n",
        "# Disable gradient calculations\n",
        "with torch.no_grad():\n",
        "    for _ in range(num_tokens_to_generate):\n",
        "        # --- 1. Prepare Input Context ---\n",
        "        # Ensure context doesn't exceed block_size\n",
        "        current_context = generated_sequence[:, -block_size:]\n",
        "        B_gen, T_gen = current_context.shape\n",
        "        C_gen = d_model\n",
        "\n",
        "        # --- 2. Forward Pass (Identical logic to training loop's forward pass) ---\n",
        "        # --- Initial Embedding ---\n",
        "        token_embed_gen = token_embedding_table(current_context) # (B_gen, T_gen, C_gen)\n",
        "        # --- Prepare RoPE Frequencies ---\n",
        "        position_ids_gen = torch.arange(T_gen, device=device).unsqueeze(0) # (1, T_gen)\n",
        "        inv_freq_expanded_gen = inv_freq.unsqueeze(0).unsqueeze(-1).expand(B_gen, -1, 1)\n",
        "        pos_ids_expanded_gen = position_ids_gen.expand(B_gen, -1).unsqueeze(1).float()\n",
        "        with torch.autocast(device_type=device, enabled=False):\n",
        "            freqs_gen = (inv_freq_expanded_gen.float() @ pos_ids_expanded_gen).transpose(1, 2)\n",
        "            freqs_cis_gen = torch.polar(torch.ones_like(freqs_gen), freqs_gen)\n",
        "        x_gen = token_embed_gen\n",
        "\n",
        "        # --- Transformer Blocks Loop ---\n",
        "        for i in range(n_layers):\n",
        "            residual_attn_gen = x_gen\n",
        "            # --- Input RMSNorm ---\n",
        "            x_float_gen = x_gen.float()\n",
        "            norm_const_gen = torch.rsqrt(x_float_gen.pow(2).mean(-1, keepdim=True) + rms_norm_eps)\n",
        "            x_norm_gen = (x_float_gen * norm_const_gen).type_as(x_gen)\n",
        "            x_norm_gen = x_norm_gen * rmsnorm_weights_input[i]\n",
        "            # --- MHA ---\n",
        "            qkv_gen = mha_qkv_linears[i](x_norm_gen)\n",
        "            qkv_gen = qkv_gen.view(B_gen, T_gen, n_heads, 3 * d_k)\n",
        "            q_gen, k_gen, v_gen = qkv_gen.chunk(3, dim=-1)\n",
        "            # --- Apply RoPE ---\n",
        "            q_rope_gen = q_gen.float().reshape(B_gen, T_gen, n_heads, -1, 2)\n",
        "            k_rope_gen = k_gen.float().reshape(B_gen, T_gen, n_heads, -1, 2)\n",
        "            q_complex_gen = torch.view_as_complex(q_rope_gen)\n",
        "            k_complex_gen = torch.view_as_complex(k_rope_gen)\n",
        "            freqs_cis_bthd_gen = freqs_cis_gen.unsqueeze(2)\n",
        "            q_rotated_gen = q_complex_gen * freqs_cis_bthd_gen\n",
        "            k_rotated_gen = k_complex_gen * freqs_cis_bthd_gen\n",
        "            q_out_real_gen = torch.view_as_real(q_rotated_gen)\n",
        "            k_out_real_gen = torch.view_as_real(k_rotated_gen)\n",
        "            q_gen = q_out_real_gen.flatten(3).type_as(q_gen)\n",
        "            k_gen = k_out_real_gen.flatten(3).type_as(k_gen)\n",
        "            # --- Attention Calculation ---\n",
        "            q_gen = q_gen.permute(0, 2, 1, 3)\n",
        "            k_gen = k_gen.permute(0, 2, 1, 3)\n",
        "            v_gen = v_gen.permute(0, 2, 1, 3)\n",
        "            attn_scores_gen = (q_gen @ k_gen.transpose(-2, -1)) * (d_k ** -0.5)\n",
        "            # Use causal mask sliced to T_gen\n",
        "            attn_scores_gen = attn_scores_gen.masked_fill(causal_mask[:,:,:T_gen,:T_gen] == 0, float('-inf'))\n",
        "            attention_weights_gen = F.softmax(attn_scores_gen, dim=-1)\n",
        "            attention_weights_gen = torch.nan_to_num(attention_weights_gen)\n",
        "            attn_output_gen = attention_weights_gen @ v_gen\n",
        "            attn_output_gen = attn_output_gen.permute(0, 2, 1, 3).contiguous().view(B_gen, T_gen, C_gen)\n",
        "            attn_output_gen = mha_output_linears[i](attn_output_gen)\n",
        "            # --- Add Residual 1 ---\n",
        "            x_gen = residual_attn_gen + attn_output_gen\n",
        "            # --- MoE Block ---\n",
        "            residual_moe_gen = x_gen\n",
        "            # --- Post-Attention RMSNorm ---\n",
        "            x_float_gen = x_gen.float()\n",
        "            norm_const_gen = torch.rsqrt(x_float_gen.pow(2).mean(-1, keepdim=True) + rms_norm_eps)\n",
        "            x_norm_gen = (x_float_gen * norm_const_gen).type_as(x_gen)\n",
        "            x_norm_gen = x_norm_gen * rmsnorm_weights_post_attn[i]\n",
        "            # --- Router, Experts, Shared (Inline MoE logic from training loop) ---\n",
        "            router_logits_gen = moe_routers[i](x_norm_gen)\n",
        "            routing_weights_gen, selected_experts_gen = torch.topk(router_logits_gen, num_experts_per_tok, dim=-1)\n",
        "            routing_weights_gen = torch.sigmoid(routing_weights_gen)\n",
        "            x_flat_gen = x_norm_gen.view(-1, C_gen)\n",
        "            selected_experts_flat_gen = selected_experts_gen.view(-1)\n",
        "            routing_weights_flat_gen = routing_weights_gen.view(-1)\n",
        "            token_idx_gen = torch.arange(B_gen * T_gen, device=device).repeat_interleave(num_experts_per_tok)\n",
        "            expert_idx_gen = selected_experts_flat_gen\n",
        "            expert_inputs_gen = x_flat_gen[token_idx_gen]\n",
        "            gate_up_w_selected_gen = moe_expert_gate_up_proj[i][expert_idx_gen]\n",
        "            down_w_selected_gen = moe_expert_down_proj[i][expert_idx_gen]\n",
        "            gate_up_states_gen = torch.bmm(expert_inputs_gen.unsqueeze(1), gate_up_w_selected_gen)\n",
        "            gate_gen, up_gen = gate_up_states_gen.chunk(2, dim=-1)\n",
        "            activated_states_gen = activation_fn(gate_gen) * up_gen\n",
        "            expert_outputs_flat_gen = torch.bmm(activated_states_gen, down_w_selected_gen).squeeze(1)\n",
        "            expert_outputs_weighted_gen = expert_outputs_flat_gen * routing_weights_flat_gen.unsqueeze(-1)\n",
        "            combined_expert_outputs_gen = torch.zeros_like(x_flat_gen)\n",
        "            combined_expert_outputs_gen.scatter_add_(0, token_idx_gen.unsqueeze(-1).expand(-1, C_gen), expert_outputs_weighted_gen)\n",
        "            shared_gate_val_gen = shared_expert_gate_proj[i](x_norm_gen)\n",
        "            shared_up_val_gen = shared_expert_up_proj[i](x_norm_gen)\n",
        "            shared_activated_gen = activation_fn(shared_gate_val_gen) * shared_up_val_gen\n",
        "            shared_output_gen = shared_expert_down_proj[i](shared_activated_gen)\n",
        "            moe_output_gen = combined_expert_outputs_gen.view(B_gen, T_gen, C_gen)\n",
        "            final_moe_output_gen = moe_output_gen + shared_output_gen\n",
        "            # --- Add Residual 2 ---\n",
        "            x_gen = residual_moe_gen + final_moe_output_gen\n",
        "\n",
        "        # --- Final RMSNorm ---\n",
        "        x_float_gen = x_gen.float()\n",
        "        norm_const_gen = torch.rsqrt(x_float_gen.pow(2).mean(-1, keepdim=True) + rms_norm_eps)\n",
        "        x_norm_gen = (x_float_gen * norm_const_gen).type_as(x_gen)\n",
        "        x_norm_gen = x_norm_gen * final_rmsnorm_weight\n",
        "\n",
        "        # --- Final Output Layer ---\n",
        "        logits_gen = output_linear_layer(x_norm_gen) # (B_gen, T_gen, vocab_size)\n",
        "\n",
        "        # --- 3. Get Logits for Last Time Step ---\n",
        "        logits_last_token = logits_gen[:, -1, :] # Shape: (B_gen, vocab_size)\n",
        "\n",
        "        # --- 4. Apply Softmax ---\n",
        "        probs = F.softmax(logits_last_token, dim=-1) # Shape: (B_gen, vocab_size)\n",
        "\n",
        "        # --- 5. Sample Next Token ---\n",
        "        next_token = torch.multinomial(probs, num_samples=1) # Shape: (B_gen, 1)\n",
        "\n",
        "        # --- 6. Append Sampled Token ---\n",
        "        generated_sequence = torch.cat((generated_sequence, next_token), dim=1)\n",
        "\n",
        "print(\"...Generation loop finished.\")"
      ]
    },
    {
      "cell_type": "markdown",
      "id": "llama4-gen-loop-output",
      "metadata": {
        "id": "llama4-gen-loop-output"
      },
      "source": [
        "**Output Explanation:** This block performs the actual text generation. It iteratively feeds the current sequence into the model, gets the probability distribution for the next token, samples from it, and appends the result. The output confirms the loop has started and finished."
      ]
    },
    {
      "cell_type": "markdown",
      "id": "llama4-gen-decode-theory",
      "metadata": {
        "id": "llama4-gen-decode-theory"
      },
      "source": [
        "#### Step 7.3: Decode Generated Sequence\n",
        "\n",
        "**Theory:** Convert the final sequence of generated token IDs (including the initial seed) back into a human-readable string using the `int_to_char` mapping."
      ]
    },
    {
      "cell_type": "code",
      "execution_count": 20,
      "id": "llama4-gen-decode-code",
      "metadata": {
        "colab": {
          "base_uri": "https://localhost:8080/"
        },
        "id": "llama4-gen-decode-code",
        "outputId": "4b0309bc-8001-44f1-a9cc-332d6716132f"
      },
      "outputs": [
        {
          "name": "stdout",
          "output_type": "stream",
          "text": [
            "\n",
            "--- Final Generated Text ---\n",
            "Alice 'without pictures or\n",
            "conversation?'\n",
            "So she was considering in her own mind (as well as she could, for the\n",
            "hot day made her feel very sleepy and stupid), whether the pleasure\n",
            "of making a daisy-chain wo\n"
          ]
        }
      ],
      "source": [
        "# Get the generated sequence for the first (and only) batch item\n",
        "final_generated_ids = generated_sequence[0].tolist()\n",
        "\n",
        "# Decode the list of IDs back into a string\n",
        "decoded_text = ''.join([int_to_char.get(id_val, '[UNK]') for id_val in final_generated_ids])\n",
        "\n",
        "print(\"\\n--- Final Generated Text ---\")\n",
        "print(decoded_text)"
      ]
    },
    {
      "cell_type": "markdown",
      "id": "llama4-gen-decode-output",
      "metadata": {
        "id": "llama4-gen-decode-output"
      },
      "source": [
        "**Output Explanation:** Takes the final tensor of generated token IDs, converts it back into a list of integers, and uses the `int_to_char` dictionary to map each ID back to its corresponding character. The resulting characters are joined to form the final generated text string, which is then printed."
      ]
    },
    {
      "cell_type": "markdown",
      "id": "llama4-save-theory",
      "metadata": {
        "id": "llama4-save-theory"
      },
      "source": [
        "### Step 8: Save Model State (Optional)\n",
        "\n",
        "**Goal:** Save the trained parameters of the model to a file for later use."
      ]
    },
    {
      "cell_type": "code",
      "execution_count": 21,
      "id": "llama4-save-code",
      "metadata": {
        "colab": {
          "base_uri": "https://localhost:8080/"
        },
        "id": "llama4-save-code",
        "outputId": "b19172c7-be7f-4046-9b53-5cf5df2bd9b7"
      },
      "outputs": [
        {
          "name": "stdout",
          "output_type": "stream",
          "text": [
            "Model state saved successfully to 'saved_models/llama4_moe_model.pt'\n"
          ]
        }
      ],
      "source": [
        "# Create a directory to store the model (if it doesn't exist)\n",
        "save_dir = 'saved_models'\n",
        "os.makedirs(save_dir, exist_ok=True)\n",
        "save_path = os.path.join(save_dir, 'llama4_moe_model.pt')\n",
        "\n",
        "# Create a state dictionary manually collecting all components\n",
        "model_state = {\n",
        "    # Configuration\n",
        "    'config': {\n",
        "        'vocab_size': vocab_size,\n",
        "        'd_model': d_model,\n",
        "        'n_layers': n_layers,\n",
        "        'n_heads': n_heads,\n",
        "        'block_size': block_size,\n",
        "        'rms_norm_eps': rms_norm_eps,\n",
        "        'rope_theta': rope_theta,\n",
        "        'num_local_experts': num_local_experts,\n",
        "        'num_experts_per_tok': num_experts_per_tok,\n",
        "        'intermediate_size_expert': intermediate_size_expert,\n",
        "        'intermediate_size_shared': intermediate_size_shared\n",
        "    },\n",
        "    # Tokenizer\n",
        "    'tokenizer': {\n",
        "        'char_to_int': char_to_int,\n",
        "        'int_to_char': int_to_char\n",
        "    },\n",
        "    # Model Parameters (State Dicts for nn.Modules, Tensors for nn.Parameters)\n",
        "    'token_embedding_table': token_embedding_table.state_dict(),\n",
        "    'rmsnorm_weights_input': rmsnorm_weights_input, # List of Parameters\n",
        "    'rmsnorm_weights_post_attn': rmsnorm_weights_post_attn, # List of Parameters\n",
        "    'final_rmsnorm_weight': final_rmsnorm_weight, # Parameter\n",
        "    'mha_qkv_linears': [l.state_dict() for l in mha_qkv_linears],\n",
        "    'mha_output_linears': [l.state_dict() for l in mha_output_linears],\n",
        "    'moe_routers': [r.state_dict() for r in moe_routers],\n",
        "    'moe_expert_gate_up_proj': moe_expert_gate_up_proj, # List of Parameters\n",
        "    'moe_expert_down_proj': moe_expert_down_proj, # List of Parameters\n",
        "    'shared_expert_gate_proj': [l.state_dict() for l in shared_expert_gate_proj],\n",
        "    'shared_expert_up_proj': [l.state_dict() for l in shared_expert_up_proj],\n",
        "    'shared_expert_down_proj': [l.state_dict() for l in shared_expert_down_proj],\n",
        "    'output_linear_layer': output_linear_layer.state_dict(),\n",
        "    # Note: RoPE inv_freq is not saved as it's derived from config\n",
        "}\n",
        "\n",
        "# Save the state dictionary\n",
        "torch.save(model_state, save_path)\n",
        "\n",
        "print(f\"Model state saved successfully to '{save_path}'\")"
      ]
    },
    {
      "cell_type": "markdown",
      "id": "llama4-save-output",
      "metadata": {
        "id": "llama4-save-output"
      },
      "source": [
        "**Output Explanation:** This block gathers the configuration, tokenizer, and the state of all learnable parameters (weights from `nn.Linear`, `nn.Embedding`, and the explicit `nn.Parameter` tensors for RMSNorm and Experts) into a Python dictionary. It then uses `torch.save` to serialize this dictionary to a file (`.pt`). The output confirms that the model state has been saved."
      ]
    },
    {
      "cell_type": "markdown",
      "id": "llama4-conclusion",
      "metadata": {
        "id": "llama4-conclusion"
      },
      "source": [
        "### Step 9: Conclusion\n",
        "\n",
        "This notebook provided an extremely detailed, step-by-step, inline implementation of a Transformer-based language model incorporating key architectural elements inspired by models like Llama 4, particularly **Mixture-of-Experts (MoE)**, **RMS Normalization**, and **Rotary Positional Embeddings (RoPE)**.\n",
        "\n",
        "We covered:\n",
        "1.  **Setup & Tokenization:** Basic environment setup and character-level tokenization.\n",
        "2.  **Hyperparameter Definition:** Setting up configuration values, scaled down from larger models.\n",
        "3.  **Data Preparation:** Creating input/target sequences for next-token prediction.\n",
        "4.  **Model Initialization (Inline):** Explicitly creating and initializing components like token embeddings, RMSNorm weights, attention linear layers, RoPE frequency bases, MoE routers, MoE expert weights, shared expert MLPs, and the final output layer.\n",
        "5.  **Training Loop (Inline):** Implementing the complete forward pass within the loop, demonstrating:\n",
        "    *   Application of RMSNorm.\n",
        "    *   Calculation and application of RoPE within the MHA block.\n",
        "    *   The MoE forward pass: routing, expert selection (Top-K), parallel expert computation (using BMM), combination of expert outputs (`scatter_add_`), and integration with a shared expert MLP.\n",
        "    *   Standard Transformer operations like residual connections and attention.\n",
        "    *   Loss calculation, backpropagation, and optimizer steps.\n",
        "6.  **Text Generation:** Implementing autoregressive sampling using the trained model components in evaluation mode.\n",
        "\n",
        "While highly verbose and simplified in scale and certain features (like using MHA instead of GQA), this inline approach aimed to demystify the core mechanics, especially the MoE layer's operation (routing, expert processing, combination) and its integration within a modern Transformer architecture incorporating RMSNorm and RoPE. Building upon this understanding would involve using more structured code (functions, classes), implementing further optimizations (GQA, etc.), and training on significantly larger datasets."
      ]
    }
  ],
  "metadata": {
    "accelerator": "GPU",
    "colab": {
      "gpuType": "T4",
      "provenance": []
    },
    "kernelspec": {
      "display_name": "moe-experiments",
      "language": "python",
      "name": "python3"
    },
    "language_info": {
      "codemirror_mode": {
        "name": "ipython",
        "version": 3
      },
      "file_extension": ".py",
      "mimetype": "text/x-python",
      "name": "python",
      "nbconvert_exporter": "python",
      "pygments_lexer": "ipython3",
      "version": "3.12.0"
    }
  },
  "nbformat": 4,
  "nbformat_minor": 5
}
