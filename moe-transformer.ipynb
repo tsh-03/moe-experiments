{
 "cells": [
  {
   "cell_type": "markdown",
   "id": "4b5b6fc0",
   "metadata": {},
   "source": [
    "### Mixture of Experts (MoE) Transformer with Llama4 type model "
   ]
  },
  {
   "cell_type": "markdown",
   "id": "e0956f9f",
   "metadata": {},
   "source": [
    "Author: Tirth Shah  \n",
    "Inspired by: https://github.com/FareedKhan-dev/train-llama4"
   ]
  },
  {
   "cell_type": "markdown",
   "id": "cfa7c566",
   "metadata": {},
   "source": [
    "#### Import Required Libraries and Modules"
   ]
  },
  {
   "cell_type": "code",
   "execution_count": 1,
   "id": "0828dbbc",
   "metadata": {},
   "outputs": [
    {
     "name": "stderr",
     "output_type": "stream",
     "text": [
      "/home/tirth/git_personal/moe-experiments/model.py:89: SyntaxWarning: invalid escape sequence '\\i'\n",
      "  $$ \\theta_i = \\frac{1}{\\rm{ropetheta}^{2i / d_k}} $$ where $i \\in [0, 1, ..., d_k/2 - 1]$. We precompute `inv_freq` which corresponds to this $\\theta_i$.\n"
     ]
    }
   ],
   "source": [
    "import matplotlib.pyplot as plt\n",
    "import numpy as np\n",
    "import torch\n",
    "\n",
    "# Import our custom modules\n",
    "from model import MoETransformer, ModelConfig\n",
    "from prepare_data import CharDataset\n",
    "from train import TrainModel\n",
    "import utils as utils"
   ]
  },
  {
   "cell_type": "markdown",
   "id": "7631e3d7",
   "metadata": {},
   "source": [
    "Set random seed for reproducibility"
   ]
  },
  {
   "cell_type": "code",
   "execution_count": 2,
   "id": "a316baea",
   "metadata": {},
   "outputs": [
    {
     "data": {
      "text/plain": [
       "<torch._C.Generator at 0x750a6e70ff70>"
      ]
     },
     "execution_count": 2,
     "metadata": {},
     "output_type": "execute_result"
    }
   ],
   "source": [
    "torch.manual_seed(42)"
   ]
  },
  {
   "cell_type": "markdown",
   "id": "4789eada",
   "metadata": {},
   "source": [
    "#### Prepare Dataset"
   ]
  },
  {
   "cell_type": "markdown",
   "id": "92402b97",
   "metadata": {},
   "source": [
    "Sample text from \"Alice's Adventures in Wonderland\". This is a small excerpt to keep the dataset manageable for demonstration purposes."
   ]
  },
  {
   "cell_type": "code",
   "execution_count": 3,
   "id": "6a265fc3",
   "metadata": {},
   "outputs": [],
   "source": [
    "block_size = 64 # Define the block size for the dataset\n",
    "\n",
    "dataset_path = \"./dataset/alice_sample_dataset.pt\"\n",
    "\n",
    "text = \"\"\"\n",
    "    Alice was beginning to get very tired of sitting by her sister on the\n",
    "    bank, and of having nothing to do: once or twice she had peeped into the\n",
    "    book her sister was reading, but it had no pictures or conversations in\n",
    "    it, 'and what is the use of a book,' thought Alice 'without pictures or\n",
    "    conversation?'\n",
    "    So she was considering in her own mind (as well as she could, for the\n",
    "    hot day made her feel very sleepy and stupid), whether the pleasure\n",
    "    of making a daisy-chain would be worth the trouble of getting up and\n",
    "    picking the daisies, when suddenly a White Rabbit with pink eyes ran\n",
    "    close by her.\n",
    "    \"\"\"\n",
    "\n",
    "dataset = CharDataset(text=text, block_size=block_size) # Create dataset\n",
    "torch.save(dataset, dataset_path) # save the dataset"
   ]
  },
  {
   "cell_type": "markdown",
   "id": "4a437e21",
   "metadata": {
    "vscode": {
     "languageId": "markdown"
    }
   },
   "source": [
    "#### Initialize MoE Transformer Model"
   ]
  },
  {
   "cell_type": "code",
   "execution_count": 4,
   "id": "4721eb59",
   "metadata": {},
   "outputs": [
    {
     "name": "stdout",
     "output_type": "stream",
     "text": [
      "Model initialized successfully!\n",
      "Total parameters: 2,240,128\n",
      "Trainable parameters: 2,240,128\n"
     ]
    }
   ],
   "source": [
    "# Model configuration\n",
    "model_config = ModelConfig(\n",
    "    d_model=128, \n",
    "    n_layers=4,\n",
    "    n_heads=4,\n",
    "    block_size=block_size,\n",
    "    vocab_size=dataset.tokenizer.vocab_size,\n",
    "    rms_norm_eps=1e-5,\n",
    "    rope_theta=10000.0,\n",
    "    num_local_experts=4,\n",
    "    num_experts_per_tok=2,\n",
    "    intermediate_size_expert=256,\n",
    "    intermediate_size_shared=256\n",
    ")\n",
    "\n",
    "# Initialize the model\n",
    "model = MoETransformer(config=model_config)\n",
    "model = model.to(model.config.device)\n",
    "\n",
    "# Print model summary\n",
    "total_params = sum(p.numel() for p in model.parameters())\n",
    "trainable_params = sum(p.numel() for p in model.parameters() if p.requires_grad)\n",
    "\n",
    "print(f\"Model initialized successfully!\")\n",
    "print(f\"Total parameters: {total_params:,}\")\n",
    "print(f\"Trainable parameters: {trainable_params:,}\")"
   ]
  },
  {
   "cell_type": "markdown",
   "id": "6c477eae",
   "metadata": {},
   "source": [
    "#### Train the Model"
   ]
  },
  {
   "cell_type": "markdown",
   "id": "e0612de1",
   "metadata": {},
   "source": [
    "Setting up training configuration"
   ]
  },
  {
   "cell_type": "code",
   "execution_count": 5,
   "id": "15a6e9ca",
   "metadata": {},
   "outputs": [],
   "source": [
    "train_model = TrainModel(\n",
    "    model=model,\n",
    "    batch_size=16,\n",
    "    learning_rate=5e-4,\n",
    "    epochs=3000, # 3000 epochs\n",
    "    print_interval=300,\n",
    "    datadir=dataset_path,\n",
    "    test_split=0.1\n",
    ")"
   ]
  },
  {
   "cell_type": "markdown",
   "id": "eba0cde4",
   "metadata": {},
   "source": [
    "Training the model"
   ]
  },
  {
   "cell_type": "code",
   "execution_count": 6,
   "id": "f7de1cb8",
   "metadata": {},
   "outputs": [
    {
     "name": "stdout",
     "output_type": "stream",
     "text": [
      "Starting training...\n"
     ]
    },
    {
     "name": "stderr",
     "output_type": "stream",
     "text": [
      " 10%|█         | 302/3000 [00:14<02:11, 20.58it/s]"
     ]
    },
    {
     "name": "stdout",
     "output_type": "stream",
     "text": [
      "  Epoch 300/3000, Loss: 0.0637\n"
     ]
    },
    {
     "name": "stderr",
     "output_type": "stream",
     "text": [
      " 20%|██        | 602/3000 [00:29<01:56, 20.61it/s]"
     ]
    },
    {
     "name": "stdout",
     "output_type": "stream",
     "text": [
      "  Epoch 600/3000, Loss: 0.0730\n"
     ]
    },
    {
     "name": "stderr",
     "output_type": "stream",
     "text": [
      " 30%|███       | 902/3000 [00:44<01:41, 20.62it/s]"
     ]
    },
    {
     "name": "stdout",
     "output_type": "stream",
     "text": [
      "  Epoch 900/3000, Loss: 0.0670\n"
     ]
    },
    {
     "name": "stderr",
     "output_type": "stream",
     "text": [
      " 40%|████      | 1202/3000 [00:58<01:27, 20.62it/s]"
     ]
    },
    {
     "name": "stdout",
     "output_type": "stream",
     "text": [
      "  Epoch 1200/3000, Loss: 0.0597\n"
     ]
    },
    {
     "name": "stderr",
     "output_type": "stream",
     "text": [
      " 50%|█████     | 1502/3000 [01:13<01:12, 20.64it/s]"
     ]
    },
    {
     "name": "stdout",
     "output_type": "stream",
     "text": [
      "  Epoch 1500/3000, Loss: 0.0594\n"
     ]
    },
    {
     "name": "stderr",
     "output_type": "stream",
     "text": [
      " 60%|██████    | 1802/3000 [01:27<00:58, 20.63it/s]"
     ]
    },
    {
     "name": "stdout",
     "output_type": "stream",
     "text": [
      "  Epoch 1800/3000, Loss: 0.0634\n"
     ]
    },
    {
     "name": "stderr",
     "output_type": "stream",
     "text": [
      " 70%|███████   | 2102/3000 [01:42<00:43, 20.65it/s]"
     ]
    },
    {
     "name": "stdout",
     "output_type": "stream",
     "text": [
      "  Epoch 2100/3000, Loss: 0.0602\n"
     ]
    },
    {
     "name": "stderr",
     "output_type": "stream",
     "text": [
      " 80%|████████  | 2402/3000 [01:56<00:28, 20.64it/s]"
     ]
    },
    {
     "name": "stdout",
     "output_type": "stream",
     "text": [
      "  Epoch 2400/3000, Loss: 0.0588\n"
     ]
    },
    {
     "name": "stderr",
     "output_type": "stream",
     "text": [
      " 90%|█████████ | 2702/3000 [02:11<00:14, 20.62it/s]"
     ]
    },
    {
     "name": "stdout",
     "output_type": "stream",
     "text": [
      "  Epoch 2700/3000, Loss: 0.0619\n"
     ]
    },
    {
     "name": "stderr",
     "output_type": "stream",
     "text": [
      "100%|██████████| 3000/3000 [02:25<00:00, 20.59it/s]\n"
     ]
    },
    {
     "name": "stdout",
     "output_type": "stream",
     "text": [
      "  Epoch 3000/3000, Loss: 0.0520\n"
     ]
    },
    {
     "data": {
      "image/png": "[encoded data removed]",
      "text/plain": [
       "<Figure size 1000x500 with 1 Axes>"
      ]
     },
     "metadata": {},
     "output_type": "display_data"
    },
    {
     "name": "stdout",
     "output_type": "stream",
     "text": [
      "Training completed.\n",
      "Final training loss: 0.0520\n"
     ]
    }
   ],
   "source": [
    "train_model.train()\n",
    "\n",
    "print(f\"Final training loss: {train_model.train_losses[-1]:.4f}\")"
   ]
  },
  {
   "cell_type": "markdown",
   "id": "11c791fb",
   "metadata": {},
   "source": [
    "#### Save the Model"
   ]
  },
  {
   "cell_type": "code",
   "execution_count": 7,
   "id": "425050c2",
   "metadata": {},
   "outputs": [
    {
     "name": "stdout",
     "output_type": "stream",
     "text": [
      "Model saved to ./saved_models/moe_transformer.pth\n"
     ]
    }
   ],
   "source": [
    "utils.save_model(\n",
    "    model=model,\n",
    "    save_dir=\"./saved_models\",\n",
    "    save_name=\"moe_transformer.pth\"\n",
    ")"
   ]
  },
  {
   "cell_type": "markdown",
   "id": "ca95cfbe",
   "metadata": {},
   "source": [
    "#### Generate some text using the trained model"
   ]
  },
  {
   "cell_type": "code",
   "execution_count": 8,
   "id": "e26287e1",
   "metadata": {},
   "outputs": [
    {
     "name": "stdout",
     "output_type": "stream",
     "text": [
      "Generation loop finished.\n"
     ]
    },
    {
     "data": {
      "text/plain": [
       "'Alice was beginning to get very tired of sitting by her sister on the\\n    bank, and of having nothing to do: once or twice she'"
      ]
     },
     "execution_count": 8,
     "metadata": {},
     "output_type": "execute_result"
    }
   ],
   "source": [
    "model.generate(\n",
    "    seed_text=\"Alice was beginning to get\",\n",
    "    tokenizer=dataset.tokenizer,\n",
    "    max_new_tokens=100,\n",
    ")"
   ]
  }
 ],
 "metadata": {
  "kernelspec": {
   "display_name": "moe-experiments",
   "language": "python",
   "name": "python3"
  },
  "language_info": {
   "codemirror_mode": {
    "name": "ipython",
    "version": 3
   },
   "file_extension": ".py",
   "mimetype": "text/x-python",
   "name": "python",
   "nbconvert_exporter": "python",
   "pygments_lexer": "ipython3",
   "version": "undefined.undefined.undefined"
  }
 },
 "nbformat": 4,
 "nbformat_minor": 5
}
