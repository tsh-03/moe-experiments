{
 "cells": [
  {
   "cell_type": "markdown",
   "id": "4b5b6fc0",
   "metadata": {},
   "source": [
    "### Mixture of Experts (MoE) Transformer with Llama4 type model "
   ]
  },
  {
   "cell_type": "markdown",
   "id": "e0956f9f",
   "metadata": {},
   "source": [
    "Author: Tirth Shah  \n",
    "Inspired by: https://github.com/FareedKhan-dev/train-llama4"
   ]
  },
  {
   "cell_type": "markdown",
   "id": "cfa7c566",
   "metadata": {},
   "source": [
    "#### Import Required Libraries and Modules"
   ]
  },
  {
   "cell_type": "code",
   "execution_count": 1,
   "id": "0828dbbc",
   "metadata": {},
   "outputs": [
    {
     "name": "stderr",
     "output_type": "stream",
     "text": [
      "/Users/tirthshah/git_personal/moe-experiments/model.py:89: SyntaxWarning: invalid escape sequence '\\i'\n",
      "  \"\"\"\n",
      "/Users/tirthshah/git_personal/moe-experiments/model.py:242: SyntaxWarning: invalid escape sequence '\\s'\n",
      "  \"\"\"\n",
      "/Users/tirthshah/miniforge3/envs/moe-experiments/lib/python3.12/site-packages/tqdm/auto.py:21: TqdmWarning: IProgress not found. Please update jupyter and ipywidgets. See https://ipywidgets.readthedocs.io/en/stable/user_install.html\n",
      "  from .autonotebook import tqdm as notebook_tqdm\n"
     ]
    }
   ],
   "source": [
    "import matplotlib.pyplot as plt\n",
    "import numpy as np\n",
    "import torch\n",
    "\n",
    "# Import our custom modules\n",
    "from model import MoETransformer, ModelConfig\n",
    "from prepare_data import CharDataset, TinyStoriesDataset, sample_alice_text\n",
    "from train import TrainModel, TrainConfig\n",
    "import utils as utils"
   ]
  },
  {
   "cell_type": "markdown",
   "id": "7631e3d7",
   "metadata": {},
   "source": [
    "Set random seed for reproducibility"
   ]
  },
  {
   "cell_type": "code",
   "execution_count": 2,
   "id": "a316baea",
   "metadata": {},
   "outputs": [
    {
     "data": {
      "text/plain": [
       "<torch._C.Generator at 0x11d1c9490>"
      ]
     },
     "execution_count": 2,
     "metadata": {},
     "output_type": "execute_result"
    }
   ],
   "source": [
    "torch.manual_seed(42)"
   ]
  },
  {
   "cell_type": "markdown",
   "id": "4789eada",
   "metadata": {},
   "source": [
    "#### Prepare Dataset"
   ]
  },
  {
   "cell_type": "code",
   "execution_count": 3,
   "id": "6a265fc3",
   "metadata": {},
   "outputs": [],
   "source": [
    "dataset_tag = 'sample_alice'  # Choose dataset: 'sample_alice' or 'tiny_stories'\n",
    "\n",
    "if dataset_tag == 'sample_alice':\n",
    "    #--------- Sample text from Alice's Adventures in Wonderland ---------#\n",
    "    # This is a small excerpt to keep the dataset manageable for demonstration purposes.\n",
    "\n",
    "    block_size = 64 # Define the block size for the dataset\n",
    "    dataset = CharDataset(text=sample_alice_text, block_size=block_size) # Create dataset\n",
    "\n",
    "elif dataset_tag == 'tiny_stories':\n",
    "    #--------- Tiny stories dataset ---------#\n",
    "    # This dataset is a collection of short stories, which can be used for training language models.\n",
    "\n",
    "    block_size = 64 # Define the block size for the dataset\n",
    "    dataset = TinyStoriesDataset(block_size=block_size, max_samples=100000)  # Load the dataset\n",
    "\n",
    "else:\n",
    "    raise ValueError(\"Invalid dataset_tag. Choose 'sample_alice' or 'tiny_stories'.\")"
   ]
  },
  {
   "cell_type": "markdown",
   "id": "4a437e21",
   "metadata": {
    "vscode": {
     "languageId": "markdown"
    }
   },
   "source": [
    "#### Initialize MoE Transformer Model"
   ]
  },
  {
   "cell_type": "code",
   "execution_count": 4,
   "id": "4721eb59",
   "metadata": {},
   "outputs": [
    {
     "name": "stdout",
     "output_type": "stream",
     "text": [
      "Model initialized successfully!\n",
      "Total parameters: 2,240,128\n",
      "Trainable parameters: 2,240,128\n"
     ]
    }
   ],
   "source": [
    "# Model configuration\n",
    "model_config = ModelConfig(\n",
    "    dataset_tag=dataset_tag,\n",
    "    d_model=128, \n",
    "    n_layers=4,\n",
    "    n_heads=4,\n",
    "    block_size=block_size,\n",
    "    vocab_size=dataset.tokenizer.vocab_size,\n",
    "    rms_norm_eps=1e-5,\n",
    "    rope_theta=10000.0,\n",
    "    num_local_experts=4,\n",
    "    num_experts_per_tok=2,\n",
    "    intermediate_size_expert=256,\n",
    "    intermediate_size_shared=256\n",
    ")\n",
    "\n",
    "# Initialize the model\n",
    "model = MoETransformer(config=model_config)\n",
    "model = model.to(model.config.device)\n",
    "\n",
    "# Print model summary\n",
    "total_params = sum(p.numel() for p in model.parameters())\n",
    "trainable_params = sum(p.numel() for p in model.parameters() if p.requires_grad)\n",
    "\n",
    "print(f\"Model initialized successfully!\")\n",
    "print(f\"Total parameters: {total_params:,}\")\n",
    "print(f\"Trainable parameters: {trainable_params:,}\")"
   ]
  },
  {
   "cell_type": "markdown",
   "id": "6c477eae",
   "metadata": {},
   "source": [
    "#### Train the Model"
   ]
  },
  {
   "cell_type": "markdown",
   "id": "e0612de1",
   "metadata": {},
   "source": [
    "Setting up training configuration"
   ]
  },
  {
   "cell_type": "code",
   "execution_count": 5,
   "id": "15a6e9ca",
   "metadata": {},
   "outputs": [],
   "source": [
    "train_config = TrainConfig(\n",
    "    learning_rate=5e-4,\n",
    "    batch_size=16,\n",
    "    epochs=2, # Set to 3000 for actual training\n",
    "    print_interval=300,\n",
    "    test_split=0.1\n",
    ")\n",
    "\n",
    "train_model = TrainModel(\n",
    "    train_config=train_config,\n",
    "    model=model,\n",
    "    dataset=dataset,\n",
    ")"
   ]
  },
  {
   "cell_type": "markdown",
   "id": "eba0cde4",
   "metadata": {},
   "source": [
    "Training the model"
   ]
  },
  {
   "cell_type": "code",
   "execution_count": 6,
   "id": "f7de1cb8",
   "metadata": {},
   "outputs": [
    {
     "name": "stdout",
     "output_type": "stream",
     "text": [
      "Starting training...\n"
     ]
    },
    {
     "name": "stderr",
     "output_type": "stream",
     "text": [
      "100%|██████████| 2/2 [00:03<00:00,  1.99s/it]"
     ]
    },
    {
     "name": "stdout",
     "output_type": "stream",
     "text": [
      "  Epoch 2/2, Loss: 3.4813\n"
     ]
    },
    {
     "name": "stderr",
     "output_type": "stream",
     "text": [
      "\n"
     ]
    },
    {
     "data": {
      "image/png": "[encoded data removed]",
      "text/plain": [
       "<Figure size 1000x500 with 1 Axes>"
      ]
     },
     "metadata": {},
     "output_type": "display_data"
    },
    {
     "name": "stdout",
     "output_type": "stream",
     "text": [
      "Training completed.\n",
      "Final training loss: 3.4813\n"
     ]
    }
   ],
   "source": [
    "train_model.train()\n",
    "\n",
    "print(f\"Final training loss: {train_model.train_losses[-1]:.4f}\")"
   ]
  },
  {
   "cell_type": "markdown",
   "id": "7a505aec",
   "metadata": {},
   "source": [
    "Calculating test loss"
   ]
  },
  {
   "cell_type": "code",
   "execution_count": 7,
   "id": "07b2430b",
   "metadata": {},
   "outputs": [
    {
     "name": "stdout",
     "output_type": "stream",
     "text": [
      "Test loss: 3.1873\n"
     ]
    }
   ],
   "source": [
    "test_loss = train_model.test_loss()\n",
    "\n",
    "print(f\"Test loss: {test_loss:.4f}\")"
   ]
  },
  {
   "cell_type": "markdown",
   "id": "11c791fb",
   "metadata": {},
   "source": [
    "#### Save the Model"
   ]
  },
  {
   "cell_type": "code",
   "execution_count": 8,
   "id": "425050c2",
   "metadata": {},
   "outputs": [
    {
     "name": "stdout",
     "output_type": "stream",
     "text": [
      "Model saved to ./saved_models/try.pth\n"
     ]
    }
   ],
   "source": [
    "utils.save_model(\n",
    "    train_obj=train_model,\n",
    "    path=\"./saved_models/try.pth\",\n",
    ")"
   ]
  },
  {
   "cell_type": "markdown",
   "id": "ca95cfbe",
   "metadata": {},
   "source": [
    "#### Generate some text using the trained model"
   ]
  },
  {
   "cell_type": "code",
   "execution_count": null,
   "id": "e26287e1",
   "metadata": {},
   "outputs": [
    {
     "name": "stdout",
     "output_type": "stream",
     "text": [
      "Generation loop finished.\n"
     ]
    },
    {
     "data": {
      "text/plain": [
       "'Alice- u-csiAyuoawugkdbmvhsf.uwb)-f?Akbra asWRtgo)gsuAkb(c?u A(ydnn?b'"
      ]
     },
     "execution_count": 10,
     "metadata": {},
     "output_type": "execute_result"
    }
   ],
   "source": [
    "model.generate(\n",
    "    seed_text=\"Once upon a time\",\n",
    "    tokenizer=dataset.tokenizer,\n",
    "    max_new_tokens=model_config.block_size,\n",
    ")"
   ]
  }
 ],
 "metadata": {
  "kernelspec": {
   "display_name": "moe-experiments",
   "language": "python",
   "name": "python3"
  },
  "language_info": {
   "codemirror_mode": {
    "name": "ipython",
    "version": 3
   },
   "file_extension": ".py",
   "mimetype": "text/x-python",
   "name": "python",
   "nbconvert_exporter": "python",
   "pygments_lexer": "ipython3",
   "version": "3.12.0"
  }
 },
 "nbformat": 4,
 "nbformat_minor": 5
}
