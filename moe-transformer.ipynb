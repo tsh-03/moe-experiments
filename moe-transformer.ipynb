{
 "cells": [
  {
   "cell_type": "markdown",
   "id": "e0956f9f",
   "metadata": {},
   "source": [
    "# Mixture of Experts (MoE) Transformer Training Notebook\n",
    " \n",
    "This notebook provides a complete, reproducible implementation for training a Mixture of Experts (MoE) \n",
    "Transformer model inspired by the Llama4 architecture. It serves as a minimal working example, using a \n",
    "small dataset for demonstration and experimentation. The codebase is built from scratch for transparency \n",
    "and extensibility, with a focus on modularity, detailed expert routing analysis, and support for both \n",
    "random and top-k routing strategies.\n",
    "\n",
    "## Overview\n",
    "- **Author:** Tirth Shah\n",
    "- **Inspired by:** [FareedKhan-dev/train-llama4](https://github.com/FareedKhan-dev/train-llama4)\n",
    "- **Repository:** https://github.com/tsh-03/moe-experiments\n",
    "\n",
    "## Features\n",
    "- Modular implementation of a Transformer with MoE layers, supporting both random and top-k routing.\n",
    "- Configurable number of experts, layers, and routing strategies.\n",
    "- Includes utilities for training, evaluation, and visualization of routing and expert utilization \n",
    "  statistics.\n",
    "- Supports multiple datasets, including a sample from *Alice's Adventures in Wonderland* and TinyStories.\n",
    "\n",
    "## Usage\n",
    "1. **Setup:** Ensure all dependencies and modules from this repository are available in your environment.\n",
    "2. **Configuration:** Adjust model and training parameters in the notebook cells as needed.\n",
    "3. **Training:** Run the notebook to train the MoE Transformer on your chosen dataset.\n",
    "4. **Evaluation:** Analyze training curves and test loss. Generate text samples using the trained model. \n",
    "   A detailed analysis of routing entropy, expert utilization, and top-k accuracy is provided in \n",
    "   [moe-analyze.ipynb](./moe-analyze.ipynb).\n",
    "\n",
    "## Structure\n",
    "- **Data Preparation:** Utilities for loading and preprocessing datasets.\n",
    "- **Model Definition:** MoE Transformer architecture and configuration.\n",
    "- **Training Loop:** Training, loss tracking, and expert statistics logging.\n",
    "- **Model Saving & Generation:** Save trained models and generate text samples.\n",
    "\n",
    "## License\n",
    "This project is licensed under the MIT License. See the [LICENSE](./LICENSE) file for details.\n",
    "\n",
    "## Citation\n",
    "If you use this codebase or notebook in your work, please cite the repository and acknowledge the \n",
    "original inspiration.\n",
    "\n",
    "---"
   ]
  },
  {
   "cell_type": "markdown",
   "id": "cfa7c566",
   "metadata": {},
   "source": [
    "## Import Required Libraries and Modules"
   ]
  },
  {
   "cell_type": "code",
   "execution_count": 1,
   "id": "0828dbbc",
   "metadata": {},
   "outputs": [
    {
     "name": "stderr",
     "output_type": "stream",
     "text": [
      "c:\\Users\\hetus\\miniconda3\\envs\\moe-experiments\\Lib\\site-packages\\tqdm\\auto.py:21: TqdmWarning: IProgress not found. Please update jupyter and ipywidgets. See https://ipywidgets.readthedocs.io/en/stable/user_install.html\n",
      "  from .autonotebook import tqdm as notebook_tqdm\n"
     ]
    }
   ],
   "source": [
    "import matplotlib.pyplot as plt\n",
    "import numpy as np\n",
    "import torch\n",
    "\n",
    "# Import our custom modules\n",
    "from model import MoETransformer, ModelConfig\n",
    "from prepare_data import CharDataset, TinyStoriesDataset, sample_alice_text\n",
    "from train import TrainModel, TrainConfig\n",
    "import utils as utils"
   ]
  },
  {
   "cell_type": "markdown",
   "id": "7631e3d7",
   "metadata": {},
   "source": [
    "Set random seed for reproducibility"
   ]
  },
  {
   "cell_type": "code",
   "execution_count": 2,
   "id": "a316baea",
   "metadata": {},
   "outputs": [
    {
     "data": {
      "text/plain": [
       "<torch._C.Generator at 0x1da7f7b7d90>"
      ]
     },
     "execution_count": 2,
     "metadata": {},
     "output_type": "execute_result"
    }
   ],
   "source": [
    "torch.manual_seed(42)"
   ]
  },
  {
   "cell_type": "markdown",
   "id": "4789eada",
   "metadata": {},
   "source": [
    "## Prepare Dataset"
   ]
  },
  {
   "cell_type": "code",
   "execution_count": 3,
   "id": "6a265fc3",
   "metadata": {},
   "outputs": [
    {
     "name": "stdout",
     "output_type": "stream",
     "text": [
      "TinyStoriesDataset loaded with 100000 stories and vocabulary size 17938\n"
     ]
    }
   ],
   "source": [
    "dataset_tag = 'tiny_stories'  # Choose dataset: 'sample_alice' or 'tiny_stories'\n",
    "\n",
    "if dataset_tag == 'sample_alice':\n",
    "    #--------- Sample text from Alice's Adventures in Wonderland ---------#\n",
    "    # This is a small excerpt to keep the dataset manageable for testing and demonstration purposes.\n",
    "\n",
    "    block_size = 64 # Define the block size for the dataset\n",
    "    dataset = CharDataset(text=sample_alice_text, block_size=block_size) # Create dataset (tokenized with character tokenizer)\n",
    "\n",
    "elif dataset_tag == 'tiny_stories':\n",
    "    #--------- Tiny stories dataset ---------#\n",
    "    # This dataset is a collection of short stories, which can be used for training language models.\n",
    "\n",
    "    block_size = 64 # Define the block size for the dataset\n",
    "    dataset = TinyStoriesDataset(block_size=block_size, max_samples=100000)  # Load the dataset (tokenized with tiktoken tokenizer)\n",
    "\n",
    "else:\n",
    "    raise ValueError(\"Invalid dataset_tag. Choose 'sample_alice' or 'tiny_stories'.\")"
   ]
  },
  {
   "cell_type": "markdown",
   "id": "4a437e21",
   "metadata": {
    "vscode": {
     "languageId": "markdown"
    }
   },
   "source": [
    "## Initialize MoE Transformer Model"
   ]
  },
  {
   "cell_type": "code",
   "execution_count": 4,
   "id": "4721eb59",
   "metadata": {},
   "outputs": [
    {
     "name": "stdout",
     "output_type": "stream",
     "text": [
      "Model initialized successfully!\n",
      "Total parameters: 2,994,048\n",
      "Trainable parameters: 2,994,048\n"
     ]
    }
   ],
   "source": [
    "# Model configuration\n",
    "model_config = ModelConfig(\n",
    "    dataset_tag=dataset_tag, # 'sample_alice', 'tiny_stories' are implemented; for other datasets, modify prepare_data.py\n",
    "    d_model=64, # Embedding dimension\n",
    "    n_layers=5, # Number of transformer layers\n",
    "    n_heads=4, # Number of attention heads per layer\n",
    "    block_size=block_size, # Context size for the model\n",
    "    vocab_size=dataset.tokenizer.vocab_size, # Vocabulary size from the dataset\n",
    "    num_local_experts=4, # Number of local experts in the MoE layer\n",
    "    num_experts_per_tok=2, # Number of experts to route each token to\n",
    "    intermediate_size_expert=128, # Size of the intermediate layer in each expert\n",
    "    intermediate_size_shared=128, # Size of the intermediate layer in the shared expert of the MoE layer\n",
    "    random_routing=False, # Use random routing if True, otherwise use top-k routing (useful as a sanity check to see whether intelligent routing really helps)\n",
    ")\n",
    "\n",
    "# Initialize the model\n",
    "model = MoETransformer(config=model_config)\n",
    "model = model.to(model.config.device)\n",
    "\n",
    "# Print model summary\n",
    "total_params = sum(p.numel() for p in model.parameters())\n",
    "trainable_params = sum(p.numel() for p in model.parameters() if p.requires_grad)\n",
    "\n",
    "print(f\"Model initialized successfully!\")\n",
    "print(f\"Total parameters: {total_params:,}\")\n",
    "print(f\"Trainable parameters: {trainable_params:,}\")"
   ]
  },
  {
   "cell_type": "markdown",
   "id": "6c477eae",
   "metadata": {},
   "source": [
    "## Training"
   ]
  },
  {
   "cell_type": "markdown",
   "id": "e0612de1",
   "metadata": {},
   "source": [
    "Setting up training configuration"
   ]
  },
  {
   "cell_type": "code",
   "execution_count": 5,
   "id": "15a6e9ca",
   "metadata": {},
   "outputs": [],
   "source": [
    "train_config = TrainConfig(\n",
    "    learning_rate=1e-3, # fixed learning rate for AdamW optimizer\n",
    "    batch_size=16, # Batch size for training\n",
    "    steps=3000, # Number of training steps (1 training step = 1 batch passed through the model)\n",
    "    print_interval=300, # Interval for printing training loss\n",
    "    test_split=0.1 # Fraction of the dataset to be used for test loss computation\n",
    ")\n",
    "\n",
    "train_model = TrainModel(\n",
    "    train_config=train_config,\n",
    "    model=model,\n",
    "    dataset=dataset,\n",
    ")"
   ]
  },
  {
   "cell_type": "markdown",
   "id": "eba0cde4",
   "metadata": {},
   "source": [
    "Training the model"
   ]
  },
  {
   "cell_type": "code",
   "execution_count": 6,
   "id": "f7de1cb8",
   "metadata": {},
   "outputs": [
    {
     "name": "stdout",
     "output_type": "stream",
     "text": [
      "Starting training...\n"
     ]
    },
    {
     "name": "stderr",
     "output_type": "stream",
     "text": [
      " 10%|█         | 301/3000 [00:21<03:09, 14.25it/s]"
     ]
    },
    {
     "name": "stdout",
     "output_type": "stream",
     "text": [
      "Step 300/3000, Loss: 3.5979\n"
     ]
    },
    {
     "name": "stderr",
     "output_type": "stream",
     "text": [
      " 20%|██        | 603/3000 [00:41<02:39, 15.04it/s]"
     ]
    },
    {
     "name": "stdout",
     "output_type": "stream",
     "text": [
      "Step 600/3000, Loss: 3.0648\n"
     ]
    },
    {
     "name": "stderr",
     "output_type": "stream",
     "text": [
      " 30%|███       | 903/3000 [01:02<02:14, 15.59it/s]"
     ]
    },
    {
     "name": "stdout",
     "output_type": "stream",
     "text": [
      "Step 900/3000, Loss: 2.8049\n"
     ]
    },
    {
     "name": "stderr",
     "output_type": "stream",
     "text": [
      " 40%|████      | 1203/3000 [01:21<01:58, 15.20it/s]"
     ]
    },
    {
     "name": "stdout",
     "output_type": "stream",
     "text": [
      "Step 1200/3000, Loss: 2.7276\n"
     ]
    },
    {
     "name": "stderr",
     "output_type": "stream",
     "text": [
      " 50%|█████     | 1503/3000 [01:41<01:35, 15.65it/s]"
     ]
    },
    {
     "name": "stdout",
     "output_type": "stream",
     "text": [
      "Step 1500/3000, Loss: 2.6385\n"
     ]
    },
    {
     "name": "stderr",
     "output_type": "stream",
     "text": [
      " 60%|██████    | 1803/3000 [02:02<01:19, 14.96it/s]"
     ]
    },
    {
     "name": "stdout",
     "output_type": "stream",
     "text": [
      "Step 1800/3000, Loss: 2.6330\n"
     ]
    },
    {
     "name": "stderr",
     "output_type": "stream",
     "text": [
      " 70%|███████   | 2101/3000 [02:22<01:01, 14.53it/s]"
     ]
    },
    {
     "name": "stdout",
     "output_type": "stream",
     "text": [
      "Step 2100/3000, Loss: 2.3559\n"
     ]
    },
    {
     "name": "stderr",
     "output_type": "stream",
     "text": [
      " 80%|████████  | 2401/3000 [02:43<00:40, 14.97it/s]"
     ]
    },
    {
     "name": "stdout",
     "output_type": "stream",
     "text": [
      "Step 2400/3000, Loss: 2.4948\n"
     ]
    },
    {
     "name": "stderr",
     "output_type": "stream",
     "text": [
      " 90%|█████████ | 2703/3000 [03:03<00:19, 14.88it/s]"
     ]
    },
    {
     "name": "stdout",
     "output_type": "stream",
     "text": [
      "Step 2700/3000, Loss: 2.2829\n"
     ]
    },
    {
     "name": "stderr",
     "output_type": "stream",
     "text": [
      "100%|██████████| 3000/3000 [03:23<00:00, 14.77it/s]\n"
     ]
    },
    {
     "name": "stdout",
     "output_type": "stream",
     "text": [
      "Step 3000/3000, Loss: 2.6158\n"
     ]
    },
    {
     "data": {
      "image/png": "[encoded data removed]",
      "text/plain": [
       "<Figure size 1000x500 with 1 Axes>"
      ]
     },
     "metadata": {},
     "output_type": "display_data"
    },
    {
     "name": "stdout",
     "output_type": "stream",
     "text": [
      "Training completed.\n",
      "Final training loss: 2.6158\n"
     ]
    }
   ],
   "source": [
    "train_model.train()\n",
    "\n",
    "print(f\"Final training loss: {train_model.train_losses[-1]:.4f}\")"
   ]
  },
  {
   "cell_type": "markdown",
   "id": "7a505aec",
   "metadata": {},
   "source": [
    "Calculating test loss"
   ]
  },
  {
   "cell_type": "code",
   "execution_count": 7,
   "id": "07b2430b",
   "metadata": {},
   "outputs": [
    {
     "name": "stdout",
     "output_type": "stream",
     "text": [
      "Test loss: 2.4689\n"
     ]
    }
   ],
   "source": [
    "test_loss = train_model.test_loss()\n",
    "\n",
    "print(f\"Test loss: {test_loss:.4f}\")"
   ]
  },
  {
   "cell_type": "markdown",
   "id": "ca95cfbe",
   "metadata": {},
   "source": [
    "## Generate some text using the trained model"
   ]
  },
  {
   "cell_type": "code",
   "execution_count": 8,
   "id": "e26287e1",
   "metadata": {},
   "outputs": [
    {
     "name": "stdout",
     "output_type": "stream",
     "text": [
      "Generation loop finished.\n"
     ]
    },
    {
     "data": {
      "text/plain": [
       "'Once upon a time there was a little boy who loved to jog all the time out he found a flute. At the hospital, he felt from the other old woman and was very happy. He lived in the week and wanted to play.\\n\\nOne day he arrived to the park to do something new. But his dad had a'"
      ]
     },
     "execution_count": 8,
     "metadata": {},
     "output_type": "execute_result"
    }
   ],
   "source": [
    "if dataset_tag == 'sample_alice':\n",
    "    seed_text = \"Alice\"\n",
    "elif dataset_tag == 'tiny_stories':\n",
    "    seed_text = \"Once upon a time\"\n",
    "\n",
    "model.generate(\n",
    "    seed_text=seed_text,\n",
    "    tokenizer=dataset.tokenizer,\n",
    "    max_new_tokens=model_config.block_size,\n",
    ")"
   ]
  },
  {
   "cell_type": "markdown",
   "id": "b79edc9f",
   "metadata": {},
   "source": [
    "## Saving Model"
   ]
  },
  {
   "cell_type": "code",
   "execution_count": 9,
   "id": "f4f1fa9a",
   "metadata": {},
   "outputs": [
    {
     "name": "stdout",
     "output_type": "stream",
     "text": [
      "Model saved to ./saved_models/test.pth\n"
     ]
    }
   ],
   "source": [
    "utils.save_model(\n",
    "    train_obj=train_model,\n",
    "    # path=f\"./saved_models/{dataset_tag}_random_routing_{model_config.random_routing}_top_{model_config.num_experts_per_tok}.pth\",\n",
    "    path=f\"./saved_models/test.pth\",\n",
    ")"
   ]
  }
 ],
 "metadata": {
  "kernelspec": {
   "display_name": "moe-experiments",
   "language": "python",
   "name": "python3"
  },
  "language_info": {
   "codemirror_mode": {
    "name": "ipython",
    "version": 3
   },
   "file_extension": ".py",
   "mimetype": "text/x-python",
   "name": "python",
   "nbconvert_exporter": "python",
   "pygments_lexer": "ipython3",
   "version": "3.12.11"
  }
 },
 "nbformat": 4,
 "nbformat_minor": 5
}
